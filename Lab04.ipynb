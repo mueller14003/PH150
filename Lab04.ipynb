{
  "nbformat": 4,
  "nbformat_minor": 0,
  "metadata": {
    "colab": {
      "name": "Lab04.ipynb",
      "provenance": [],
      "collapsed_sections": [],
      "authorship_tag": "ABX9TyOjdZUOLsriXOhI9+bLYum5",
      "include_colab_link": true
    },
    "kernelspec": {
      "name": "python3",
      "display_name": "Python 3"
    },
    "language_info": {
      "name": "python"
    }
  },
  "cells": [
    {
      "cell_type": "markdown",
      "metadata": {
        "id": "view-in-github",
        "colab_type": "text"
      },
      "source": [
        "<a href=\"https://colab.research.google.com/github/mueller14003/PH150/blob/main/Lab04.ipynb\" target=\"_parent\"><img src=\"https://colab.research.google.com/assets/colab-badge.svg\" alt=\"Open In Colab\"/></a>"
      ]
    },
    {
      "cell_type": "markdown",
      "metadata": {
        "id": "weU7fMWAIJ3V"
      },
      "source": [
        "# Physics 150 \n",
        "# Lab #4 - Falling Objects with Air Resistance"
      ]
    },
    {
      "cell_type": "markdown",
      "metadata": {
        "id": "v26PuClGFB9T"
      },
      "source": [
        "**Group 4:**\n",
        "* Kyle Mueller\n",
        "* Sam Fataua\n",
        "* Makenzy Pharis"
      ]
    },
    {
      "cell_type": "markdown",
      "metadata": {
        "id": "VNvCFCdgV70a"
      },
      "source": [
        "The drag force acting on a falling object is given by:\n",
        "\n",
        "$$F_D{}=\\frac{1}{2}C\\rho{}Av^2{}$$\n",
        "\n",
        "where \n",
        "\n",
        "C is the drag coefficient and has the following values:\n",
        "* 0.48 for a sphere\n",
        "* 0.82 for a cylinder\n",
        "* 1.1 for a cone\n",
        "\n",
        "$\\rho$ is the air density. At Rexburg's altitude, it is equal to 1.02 kg/m³.\n",
        "\n",
        "A is the cross-sectional area.\n",
        "\n",
        "v is the velocity of the object."
      ]
    },
    {
      "cell_type": "markdown",
      "metadata": {
        "id": "XlywLOaHYAJB"
      },
      "source": [
        "![Free-body Diagram](data:image/png;base64,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\n",
        ")"
      ]
    },
    {
      "cell_type": "markdown",
      "metadata": {
        "id": "hpAmHUZ9XAHl"
      },
      "source": [
        "Applying Newton's second law to the free-body diagram shown above gives:\n",
        "\n",
        "$$\\Sigma{}F_y{}=-mg+F_D{}=ma_y{}$$\n",
        "\n",
        "Solving for the acceleration in the y-direction gives:\n",
        "\n",
        "$$a_y{}=\\frac{C\\rho{}Av^2}{2m}-g$$\n",
        "\n",
        "Euler’s equations can be used to determine the velocity and height of the object as a function of time. These are given by:\n",
        "\n",
        "$$y_{n+1}=y_n{}+v_n{}\\times{}\\Delta{}t$$\n",
        "\n",
        "$$v_{n+1}=v_n{}+a_n{}\\times{}\\Delta{}t$$"
      ]
    },
    {
      "cell_type": "markdown",
      "metadata": {
        "id": "LKdArrslDiqt"
      },
      "source": [
        "## **Activity 1** - Minimum Time"
      ]
    },
    {
      "cell_type": "markdown",
      "metadata": {
        "id": "qj0TZDXiaFQM"
      },
      "source": [
        "Determine the time required for a ball to fall 17.4 m, starting from rest, with no air resistance."
      ]
    },
    {
      "cell_type": "markdown",
      "metadata": {
        "id": "rTnnrRy7bSRc"
      },
      "source": [
        "$s=\\frac{1}{2}gt^2$\n",
        "\n",
        "$t^2{}=\\frac{2s}{g}$\n",
        "\n",
        "$t = \\sqrt{\\frac{2s}{g}}$"
      ]
    },
    {
      "cell_type": "code",
      "metadata": {
        "colab": {
          "base_uri": "https://localhost:8080/"
        },
        "id": "BkgOw6csa2-z",
        "outputId": "ee2e465f-76a6-42d1-a06b-98745240d160"
      },
      "source": [
        "g = 9.80665\n",
        "s = 17.4\n",
        "t = ((2*s)/g)**0.5\n",
        "print(f\"Time required for a ball to fall {s} m: {t:0.4f} s\")"
      ],
      "execution_count": null,
      "outputs": [
        {
          "output_type": "stream",
          "text": [
            "Time required for a ball to fall 17.4 m: 1.8838 s\n"
          ],
          "name": "stdout"
        }
      ]
    },
    {
      "cell_type": "markdown",
      "metadata": {
        "id": "YZKSvfyNDsKs"
      },
      "source": [
        "## **Activity 2** - Model for 1-Dimensional Motion"
      ]
    },
    {
      "cell_type": "markdown",
      "metadata": {
        "id": "i0tf-7lVaKKt"
      },
      "source": [
        "Using equations (3-5) above, construct a model for the motion of a falling object.\n"
      ]
    },
    {
      "cell_type": "code",
      "metadata": {
        "id": "XtMwvs7AdY5E"
      },
      "source": [
        "# Import libraries\n",
        "from math import pi\n",
        "\n",
        "# Constants\n",
        "g = 9.80665 #m/s²\n",
        "ρ = 1.02 #kg/m³\n",
        "C_vals = {\"sphere\":0.48,\n",
        "          \"cylinder\":0.82,\n",
        "          \"cone\":1.1}\n",
        "dt = 0.1\n",
        "\n",
        "# Functions\n",
        "area = lambda r: pi*r**2\n",
        "\n",
        "# Initial Conditions are included in the function's parameters\n",
        "def predict_time(obj_type,r,m,v=0,t=0,y=17.4):\n",
        "  C = C_vals.get(obj_type)\n",
        "  A = area(r)\n",
        "  while y>0:\n",
        "    a = ((0.5*C*ρ*A*v**2)/m)-g\n",
        "    y+=v*dt\n",
        "    v+=a*dt\n",
        "    t+=dt\n",
        "  return t"
      ],
      "execution_count": null,
      "outputs": []
    },
    {
      "cell_type": "markdown",
      "metadata": {
        "id": "CRySzzC2DsTk"
      },
      "source": [
        "## **Activity 3** - Predicting Times"
      ]
    },
    {
      "cell_type": "markdown",
      "metadata": {
        "id": "9VENBng0aOKt"
      },
      "source": [
        "Make mass and diameter measurements on each of the objects. Then determine predicted drop times for each of the six objects dropped from a height of 16.92 m using the Python code developed in Activity II. In the lab room, run some tests to verify the accuracy of your model. Give your times to the instructor or TA. "
      ]
    },
    {
      "cell_type": "code",
      "metadata": {
        "id": "XbK0kpdsb4uF"
      },
      "source": [
        "from IPython.display import Markdown"
      ],
      "execution_count": null,
      "outputs": []
    },
    {
      "cell_type": "code",
      "metadata": {
        "id": "4tx69Xgzd10u"
      },
      "source": [
        "ppb = predict_time(\"sphere\",0.019,0.0017)\n",
        "pc = predict_time(\"cylinder\",0.04,0.0052)\n",
        "sc = predict_time(\"cone\",0.05,0.0256)\n",
        "sbs = predict_time(\"sphere\",0.0255,0.0023)\n",
        "sbl = predict_time(\"sphere\",0.074,0.051)\n",
        "bb = predict_time(\"sphere\",0.1615,0.0801)"
      ],
      "execution_count": null,
      "outputs": []
    },
    {
      "cell_type": "code",
      "metadata": {
        "colab": {
          "base_uri": "https://localhost:8080/",
          "height": 164
        },
        "id": "EygSRKfMHRcE",
        "outputId": "b2c7450a-9830-48a9-be40-877056069ee7"
      },
      "source": [
        "Markdown(\n",
        " \"| Object                 | Predicted Times (s) |\\n\" \\\n",
        " \"|:-----------------------|--------------------:|\\n\" \\\n",
        "f\"| Ping pong ball         |          {ppb:0.1f} |\\n\" \\\n",
        "f\"| Plastic cup            |           {pc:0.1f} |\\n\" \\\n",
        "f\"| Styrofoam cone         |           {sc:0.1f} |\\n\" \\\n",
        "f\"| Styrofoam ball (small) |          {sbs:0.1f} |\\n\" \\\n",
        "f\"| Styrofoam ball (large) |          {sbl:0.1f} |\\n\" \\\n",
        "f\"| Beach ball             |           {bb:0.1f} |\\n\")"
      ],
      "execution_count": null,
      "outputs": [
        {
          "output_type": "execute_result",
          "data": {
            "text/markdown": "| Object                 | Predicted Times (s) |\n|:-----------------------|--------------------:|\n| Ping pong ball         |          2.9 |\n| Plastic cup            |           4.0 |\n| Styrofoam cone         |           2.9 |\n| Styrofoam ball (small) |          3.1 |\n| Styrofoam ball (large) |          2.4 |\n| Beach ball             |           3.3 |\n",
            "text/plain": [
              "<IPython.core.display.Markdown object>"
            ]
          },
          "metadata": {
            "tags": []
          },
          "execution_count": 17
        }
      ]
    },
    {
      "cell_type": "markdown",
      "metadata": {
        "id": "4esHWMaqDtVf"
      },
      "source": [
        "## **Activity 4** - Comparison of Predicted and Measured Times"
      ]
    },
    {
      "cell_type": "markdown",
      "metadata": {
        "id": "Mjmv-TI0aRg3"
      },
      "source": [
        "Each group will measure the time of flight for the six objects. Average the time measurements for each object and compare to your predicted values. "
      ]
    },
    {
      "cell_type": "markdown",
      "metadata": {
        "id": "3XqXsR1PJco6"
      },
      "source": [
        "The % Difference is given by:\n",
        "\n",
        "$$\\%Diff=\\frac{Measured-Predicted}{Measured}\\times{}100\\%$$"
      ]
    },
    {
      "cell_type": "code",
      "metadata": {
        "id": "lSf31gwEJsUh"
      },
      "source": [
        "p_diff = lambda m,p:((m-p)/m)*100"
      ],
      "execution_count": null,
      "outputs": []
    },
    {
      "cell_type": "code",
      "metadata": {
        "id": "byRMJ31wKQtK"
      },
      "source": [
        "a_ppb = 3.10\n",
        "a_pc = 4.07\n",
        "a_sc = 2.73\n",
        "a_sbs = 2.82\n",
        "a_sbl = 2.00\n",
        "a_bb = 2.86"
      ],
      "execution_count": null,
      "outputs": []
    },
    {
      "cell_type": "code",
      "metadata": {
        "colab": {
          "base_uri": "https://localhost:8080/",
          "height": 164
        },
        "id": "E30zv301J1-u",
        "outputId": "f89d0433-cb13-409c-bbba-862ab1cbd4be"
      },
      "source": [
        "Markdown(\n",
        " \"| Object                 | Predicted Times (s) | Actual Time (s) |                  % Error |\\n\" \\\n",
        " \"|:-----------------------|--------------------:|----------------:|-------------------------:|\\n\" \\\n",
        "f\"| Ping pong ball         |          {ppb:0.1f} |         {a_ppb} | {p_diff(a_ppb,ppb):0.1f} |\\n\" \\\n",
        "f\"| Plastic cup            |           {pc:0.1f} |          {a_pc} |   {p_diff(a_pc,pc):0.1f} |\\n\" \\\n",
        "f\"| Styrofoam cone         |           {sc:0.1f} |          {a_sc} |   {p_diff(a_sc,sc):0.1f} |\\n\" \\\n",
        "f\"| Styrofoam ball (small) |          {sbs:0.1f} |         {a_sbs} | {p_diff(a_sbs,sbs):0.1f} |\\n\" \\\n",
        "f\"| Styrofoam ball (large) |          {sbl:0.1f} |         {a_sbl} | {p_diff(a_sbl,sbl):0.1f} |\\n\" \\\n",
        "f\"| Beach ball             |           {bb:0.1f} |          {a_bb} |   {p_diff(a_bb,bb):0.1f} |\\n\")"
      ],
      "execution_count": null,
      "outputs": [
        {
          "output_type": "execute_result",
          "data": {
            "text/markdown": "| Object                 | Predicted Times (s) | Actual Time (s) |                  % Error |\n|:-----------------------|--------------------:|----------------:|-------------------------:|\n| Ping pong ball         |          2.9 |         3.1 | 6.5 |\n| Plastic cup            |           4.0 |          4.07 |   1.7 |\n| Styrofoam cone         |           2.9 |          2.73 |   -6.2 |\n| Styrofoam ball (small) |          3.1 |         2.82 | -9.9 |\n| Styrofoam ball (large) |          2.4 |         2.0 | -20.0 |\n| Beach ball             |           3.3 |          2.86 |   -15.4 |\n",
            "text/plain": [
              "<IPython.core.display.Markdown object>"
            ]
          },
          "metadata": {
            "tags": []
          },
          "execution_count": 26
        }
      ]
    },
    {
      "cell_type": "markdown",
      "metadata": {
        "id": "7AxXd0e0OoKn"
      },
      "source": [
        "Your score on the lab will be based on your % error for the six different objects."
      ]
    },
    {
      "cell_type": "markdown",
      "metadata": {
        "id": "doxUUQhmOqPG"
      },
      "source": [
        "If any of your % differences are greater than 10%, give a possible explanation for the discrepancy."
      ]
    },
    {
      "cell_type": "markdown",
      "metadata": {
        "id": "M6_AM3_hLsWg"
      },
      "source": [
        "The large styrofoam ball and the beach ball had % differences greater than 10%. These discrepancies could be due to a wide array of varying factors. One of the possible factors could have been human error. Reaction times could have been affected by the loud environment. The sun was also close in the sky to the point where the objects were being dropped, which also could have had an impact on reaction time. \n",
        "\n",
        "Another possible explanation for the discrepancies: If our predicted results mostly align with those of our peers, there likely could have been anomalies in the experiment. There was wind when we were collecting data, and some of the objects looked as if they had started accelerating in a different direction after they had been dropped. Some objects were dropped at slightly different heights, and some objects looked like they had some amount of initial velocity that was not accounted for. These are all factors that could have resulted in the discrepancies between our predicted data and the actual data."
      ]
    }
  ]
}