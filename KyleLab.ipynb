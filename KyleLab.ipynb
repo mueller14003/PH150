{
  "nbformat": 4,
  "nbformat_minor": 0,
  "metadata": {
    "colab": {
      "name": "KyleLab.ipynb",
      "provenance": [],
      "collapsed_sections": [
        "D3iThHpcobWm",
        "9TXKPhnPoftJ"
      ],
      "include_colab_link": true
    },
    "kernelspec": {
      "name": "python3",
      "display_name": "Python 3"
    },
    "language_info": {
      "name": "python"
    }
  },
  "cells": [
    {
      "cell_type": "markdown",
      "metadata": {
        "id": "view-in-github",
        "colab_type": "text"
      },
      "source": [
        "<a href=\"https://colab.research.google.com/github/mueller14003/PH150/blob/main/KyleLab.ipynb\" target=\"_parent\"><img src=\"https://colab.research.google.com/assets/colab-badge.svg\" alt=\"Open In Colab\"/></a>"
      ]
    },
    {
      "cell_type": "markdown",
      "metadata": {
        "id": "V35C1PxsiS87"
      },
      "source": [
        "# Approximating Pi Using the Monte Carlo Method\n",
        "## by Kyle Mueller"
      ]
    },
    {
      "cell_type": "markdown",
      "metadata": {
        "id": "D3iThHpcobWm"
      },
      "source": [
        "## Introduction"
      ]
    },
    {
      "cell_type": "markdown",
      "metadata": {
        "id": "UToUZ6D1ofPq"
      },
      "source": [
        "Pi ($\\pi$) is a well-known mathematical constant that represents the ratio between the circumference and the diameter of a circle. An equation for calculating Pi can be seen below:\n",
        "\n",
        "(1) $$\\pi = \\frac{C}{d}$$\n",
        "\n",
        "where $C$ is the circumference of a given circle and $d$ is the corresponding diameter of said circle.\n",
        "\n",
        "However, despite the depiction above, Pi cannot be represented as a fraction. Pi is an irrational number with an *infinite* amount of decimal digits. This makes it impossible to ever fully capture, calculate, or comprehend Pi. Notwithstanding, we as humans have been continually calculating Pi with greater precision for ***millennia***!\n",
        "\n",
        "Another method for calculating Pi is known as the Monte Carlo Method [[1](#scrollTo=Ja4XOgdylB8g)]. This method uses the surface area of a square and the surface area of a circle with equal diameters. The surface area of a square can be calculated as:\n",
        "\n",
        "(2) $$SA_{square} = (2r)^{2} = 4r^{2}$$\n",
        "\n",
        "where $r$ is the radius of the square ($\\frac{1}{2}$ the diameter or length of an edge of the square). The surface area of a circle can be calculated as:\n",
        "\n",
        "(3) $$SA_{circle} = \\pi{}r^2$$\n",
        "\n",
        "where $r$ is the radius of the circle. We can use these two surface areas to calculate Pi like so:\n",
        "\n",
        "(4) $$\\pi = 4\\times{}\\frac{SA_{circle}}{SA_{square}} = 4\\times{}\\frac{\\pi{}r^{2}}{4r^{2}} = 4\\times{}\\frac{\\pi}{4} = \\pi$$\n",
        "\n",
        "In this lab, I will use two different measuring techniques to calculate Pi in order to see which method will yield more accurate results. I will record data for the circumference and diameter of various circular objects, and I will use Equation 1 to calculate Pi. I will analyze whether circles with larger diameters yield better results. I will also measure the mass of a square and a circle with equal diameter, and I will calculate Pi using the Monte Carlo Method (as shown in Equation 4). I will calculate uncertainties for all measurements and calculations."
      ]
    },
    {
      "cell_type": "markdown",
      "metadata": {
        "id": "9TXKPhnPoftJ"
      },
      "source": [
        "## Experimental Plan"
      ]
    },
    {
      "cell_type": "markdown",
      "metadata": {
        "id": "AGtJXBrQoiEG"
      },
      "source": [
        "The materials needed to complete this lab are as follows:\n",
        "* 1 pencil\n",
        "* 1 measuring tape\n",
        "* 1 straight edge\n",
        "* 1 pair of scissors\n",
        "* 1 thick piece of paper\n",
        "* 1 compass and protractor\n",
        "* 1 precise electronic scale\n",
        "* Multiple circular objects of varying sizes\n",
        "\n",
        "Start by measuring the circumference and the diameter of circular objects of varying sizes. Record these measurements in a table, along with their uncertainties and the corresponding calculations of Pi. \n",
        "\n",
        "Next, take the thick piece of paper and measure the shorter side. Use the measuring tape to measure a segment of the paper of equal length on the longer side. Use the straight edge to draw a line at the measured location. Then use the scissors to cut the paper along the line (be as precise as possible). Measure the mass of the resulting square piece of paper. \n",
        "\n",
        "Next, determine the exact center of the square by measuring and drawing precise diameter lines. Place the point of the compass at the center of the square, and align the drawing side of the compass with the edge of the paper on one of your diameter lines. Carefully draw a circle using the compass, making sure that it stays firmly in the center of the square. Carefully and precisely cut out the circle. Finally, measure the mass of the circle.\n"
      ]
    },
    {
      "cell_type": "markdown",
      "metadata": {
        "id": "40t2nfb9oioF"
      },
      "source": [
        "## Data and Observations"
      ]
    },
    {
      "cell_type": "markdown",
      "metadata": {
        "id": "l_UtC8OFqYNi"
      },
      "source": [
        "### Circumference / Diameter"
      ]
    },
    {
      "cell_type": "code",
      "metadata": {
        "colab": {
          "base_uri": "https://localhost:8080/",
          "height": 164
        },
        "id": "KRDqv1YaR6DP",
        "outputId": "e92fba9c-65fa-48ec-cf3f-daa19d13575b"
      },
      "source": [
        "from IPython.display import Markdown\n",
        "from math import sqrt, pi\n",
        "\n",
        "# Measured circumference and diameter\n",
        "O = [\"large pot\", \"bucket\", \"soup bowl\", \"cereal bowl\", \"small cup\", \"wedding ring\"] # Object\n",
        "C = [80.1, 73.5, 63.8, 48.3, 29.0, 7.0] # cm (Circumference)\n",
        "D = [25.5, 23.4, 20.3, 15.4, 9.2,  2.2] # cm (Diameter)\n",
        "\n",
        "# List of corresponding calculations of Pi\n",
        "πl = [*map(lambda c,d: c/d, C, D)]\n",
        "\n",
        "# Uncertainties\n",
        "δcm = 0.05 # cm (δ measuring tape)\n",
        "δπl = [*map(lambda c,d,π: π*sqrt((δm/c)**2+(δm/d)**2), C, D, πl)] # cm\n",
        "\n",
        "# Percent Difference\n",
        "p_err = [*map(lambda x: (abs(pi-x)/pi)*100, πl)]\n",
        "\n",
        "# Table\n",
        "header = f\"|Object|C (cm)|d (cm)|δcm (cm)|π|δπ|% Error|\\n|:-|-:|-:|-:|-:|-:|-:|\\n\"\n",
        "body = '\\n'.join([*map(lambda o,c,d,π,δπ,pe: f\"|{o}|{c:0.1f}|{d:0.1f}|{δm:0.2f}|{π:0.3f}|{δπ:0.3f}|{pe:0.2f}|\",O,C,D,πl,δπl,p_err)])\n",
        "\n",
        "Markdown(header + body)"
      ],
      "execution_count": 92,
      "outputs": [
        {
          "output_type": "execute_result",
          "data": {
            "text/markdown": "|Object|C (cm)|d (cm)|δcm (cm)|π|δπ|% Error|\n|:-|-:|-:|-:|-:|-:|-:|\n|large pot|80.1|25.5|0.05|3.141|0.006|0.01|\n|bucket|73.5|23.4|0.05|3.141|0.007|0.02|\n|soup bowl|63.8|20.3|0.05|3.143|0.008|0.04|\n|cereal bowl|48.3|15.4|0.05|3.136|0.011|0.17|\n|small cup|29.0|9.2|0.05|3.152|0.018|0.34|\n|wedding ring|7.0|2.2|0.05|3.182|0.076|1.28|",
            "text/plain": [
              "<IPython.core.display.Markdown object>"
            ]
          },
          "metadata": {
            "tags": []
          },
          "execution_count": 92
        }
      ]
    },
    {
      "cell_type": "markdown",
      "metadata": {
        "id": "p2UKtmWd1x6w"
      },
      "source": [
        "### Monte Carlo Method"
      ]
    },
    {
      "cell_type": "code",
      "metadata": {
        "colab": {
          "base_uri": "https://localhost:8080/"
        },
        "id": "J6PNy-g8V6T5",
        "outputId": "bbdcf4c3-28ec-4eec-e471-7b95fb700de2"
      },
      "source": [
        "# Measured mass of square and circle\n",
        "sm = 7.8587 # g (Square mass)\n",
        "cm = 6.1722 # g (Circle mass)\n",
        "\n",
        "# Calculated Pi\n",
        "π = (cm/sm)*4\n",
        "\n",
        "# Uncertainties\n",
        "δg = 0.0001 # g (δ scale)\n",
        "δπ = π*sqrt((δg/sm)**2+(δg/cm)**2)\n",
        "\n",
        "print(f'Approximation of π with the Monte Carlo Method: {π:0.5f} ±{δπ:0.5f}')"
      ],
      "execution_count": 12,
      "outputs": [
        {
          "output_type": "stream",
          "text": [
            "Approximation of π with the Monte Carlo Method: 3.14159 ±0.00006\n"
          ],
          "name": "stdout"
        }
      ]
    },
    {
      "cell_type": "markdown",
      "metadata": {
        "id": "r0tB3pTqpGrP"
      },
      "source": [
        "## Discussion of Results"
      ]
    },
    {
      "cell_type": "markdown",
      "metadata": {
        "id": "XoQsxPLJOFRG"
      },
      "source": [
        "### Graphs & Data Analysis"
      ]
    },
    {
      "cell_type": "markdown",
      "metadata": {
        "id": "c2T1TfUwRnui"
      },
      "source": [
        "Graph 1: Percent Error vs. Diameter."
      ]
    },
    {
      "cell_type": "code",
      "metadata": {
        "colab": {
          "base_uri": "https://localhost:8080/",
          "height": 295
        },
        "id": "UTMseOYFDuoy",
        "outputId": "4bf83bac-205f-43e9-a32d-8d8500e3e3ed"
      },
      "source": [
        "# Import libraries\n",
        "import matplotlib.pyplot as plt\n",
        "\n",
        "plt.plot(D, p_err, 'bo')\n",
        "plt.xlabel('Diameter (cm)')\n",
        "plt.ylabel('Percent Error')\n",
        "plt.title('Percent Error vs. Diameter')\n",
        "\n",
        "plt.show()"
      ],
      "execution_count": 93,
      "outputs": [
        {
          "output_type": "display_data",
          "data": {
            "image/png": "[encoded data removed]",
            "text/plain": [
              "<Figure size 432x288 with 1 Axes>"
            ]
          },
          "metadata": {
            "tags": [],
            "needs_background": "light"
          }
        }
      ]
    },
    {
      "cell_type": "markdown",
      "metadata": {
        "id": "h4o4QpxoRtsq"
      },
      "source": [
        "Graph 2: Uncertainty vs. Diameter."
      ]
    },
    {
      "cell_type": "code",
      "metadata": {
        "colab": {
          "base_uri": "https://localhost:8080/",
          "height": 295
        },
        "id": "PqgnZXQYNWgN",
        "outputId": "880953ac-0651-40d5-e79e-ec70bb6b4bb9"
      },
      "source": [
        "plt.plot(D, δπl, 'bo')\n",
        "plt.xlabel('Diameter (cm)')\n",
        "plt.ylabel('Uncertainty of Measured Value')\n",
        "plt.title('Uncertainty vs. Diameter')\n",
        "\n",
        "plt.show()"
      ],
      "execution_count": 96,
      "outputs": [
        {
          "output_type": "display_data",
          "data": {
            "image/png": "[encoded data removed]",
            "text/plain": [
              "<Figure size 432x288 with 1 Axes>"
            ]
          },
          "metadata": {
            "tags": [],
            "needs_background": "light"
          }
        }
      ]
    },
    {
      "cell_type": "code",
      "metadata": {
        "colab": {
          "base_uri": "https://localhost:8080/"
        },
        "id": "cyior5qVOqlR",
        "outputId": "d61e8483-91ff-4228-bbd8-5a72ddded519"
      },
      "source": [
        "print(f\"Percent Error of the Monte Carlo approximation: {100*(abs(pi-π)/pi):0.4f}%\")"
      ],
      "execution_count": 95,
      "outputs": [
        {
          "output_type": "stream",
          "text": [
            "Percent Error of the Monte Carlo approximation: 0.0001%\n"
          ],
          "name": "stdout"
        }
      ]
    },
    {
      "cell_type": "markdown",
      "metadata": {
        "id": "ILMhXbM9pK05"
      },
      "source": [
        "### Discussion"
      ]
    },
    {
      "cell_type": "markdown",
      "metadata": {
        "id": "5VMUd88tOOIT"
      },
      "source": [
        "In analyzing the data, it is clear that the Monte Carlo Method yielded significantly better results. Looking more closely at the results of calculating Pi by dividing the measured circumference by the measured diameter of a circle shows that as the diameter of the circular object being measured decreases, the accuracy of the calculated value also significantly decreases (see Graph 1 and Graph 2). \n",
        "\n",
        "Both trends (Graph 1 and Graph 2) seem to be logarithmic in nature, signifying that as the diameter of the circular object being measured increases, the percent error and the uncertainty both approach zero. However, due to the nature of the trend, approximating Pi by dividing the measured circumference by the measured diameter of a circle would require a very large circular object to gather data as precise as the data I gathered using the Monte Carlo method.\n",
        "\n",
        "The data I collected for the Monte Carlo approximation also used a very precise digital scale, which likely helped to make the approximation more precise. I also took great care in my measurements and in the cuts I made in the paper to make both the square and the circle, which is likely a factor that influenced the results."
      ]
    },
    {
      "cell_type": "markdown",
      "metadata": {
        "id": "46Fu4jS2pLVk"
      },
      "source": [
        "## Conclusions"
      ]
    },
    {
      "cell_type": "markdown",
      "metadata": {
        "id": "aknIUXU1pYjR"
      },
      "source": [
        "Using the Monte Carlo Method for approximating Pi yielded very impressive results. Approximating Pi by dividing the circumference by the diameter of small circular objects proved to be less precise and less accurate. It would require a very large circular object to calculate Pi with greater accuracy by using the $\\frac{C}{d}$ method. Both of these methods are viable, but my data suggests that using the Monte Carlo Method yields better results. This is despite the fact that the paper circle and rectangle used for the approximation had relatively small diameters (21.2 cm)."
      ]
    },
    {
      "cell_type": "markdown",
      "metadata": {
        "id": "t1i4TBhxk98p"
      },
      "source": [
        "## Sources"
      ]
    },
    {
      "cell_type": "markdown",
      "metadata": {
        "id": "cEGLpu_KXFkP"
      },
      "source": [
        "### Source Used For Reference"
      ]
    },
    {
      "cell_type": "markdown",
      "metadata": {
        "id": "Ja4XOgdylB8g"
      },
      "source": [
        "[1] Williamson, Timothy. \"Calculating Pi Using the Monte Carlo Method.\" The Physics Teacher 51.8 (2013): 468-469. [source](https://aapt.scitation.org/doi/full/10.1119/1.4824938?casa_token=SdT5jr_buQEAAAAA%3ACsdCzc0I1Zpljmi3ckpi1z3g0AGLj2palGVUEL11J1hYRaSMHsKaNQYfNYzvbSyDcA2U0gXfLX5fCZo)"
      ]
    },
    {
      "cell_type": "markdown",
      "metadata": {
        "id": "CY49CPP3XLHA"
      },
      "source": [
        "### Other Helpful Resources"
      ]
    },
    {
      "cell_type": "markdown",
      "metadata": {
        "id": "VOeu1jK8lGNS"
      },
      "source": [
        "Calculating pi by weighing a circle: https://youtu.be/Ngj0a57Rlb0"
      ]
    },
    {
      "cell_type": "markdown",
      "metadata": {
        "id": "NTAMtpmDW4x9"
      },
      "source": [
        "Geometric Calculation of Pi Using the Monte Carlo Method: https://www.researchgate.net/profile/Andrii-Kovalchuk/publication/306064632_Geometric_calculation_of_Pi_using_the_Monte_Carlo_method/links/5e8ced7ca6fdcca789fddde7/Geometric-calculation-of-Pi-using-the-Monte-Carlo-method.pdf\n"
      ]
    }
  ]
}