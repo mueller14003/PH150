{
  "nbformat": 4,
  "nbformat_minor": 0,
  "metadata": {
    "colab": {
      "name": "KyleLab.ipynb",
      "provenance": [],
      "authorship_tag": "ABX9TyPWDbT24IR21KNq6BNuhqEK",
      "include_colab_link": true
    },
    "kernelspec": {
      "name": "python3",
      "display_name": "Python 3"
    },
    "language_info": {
      "name": "python"
    }
  },
  "cells": [
    {
      "cell_type": "markdown",
      "metadata": {
        "id": "view-in-github",
        "colab_type": "text"
      },
      "source": [
        "<a href=\"https://colab.research.google.com/github/mueller14003/PH150/blob/main/KyleLab.ipynb\" target=\"_parent\"><img src=\"https://colab.research.google.com/assets/colab-badge.svg\" alt=\"Open In Colab\"/></a>"
      ]
    },
    {
      "cell_type": "markdown",
      "metadata": {
        "id": "V35C1PxsiS87"
      },
      "source": [
        "#### Physics 150 - Student Designed Lab\n",
        "# Measuring $\\pi$\n",
        "#### by Kyle Mueller"
      ]
    },
    {
      "cell_type": "markdown",
      "metadata": {
        "id": "D3iThHpcobWm"
      },
      "source": [
        "## Introduction"
      ]
    },
    {
      "cell_type": "markdown",
      "metadata": {
        "id": "UToUZ6D1ofPq"
      },
      "source": [
        ""
      ]
    },
    {
      "cell_type": "markdown",
      "metadata": {
        "id": "9TXKPhnPoftJ"
      },
      "source": [
        "## Experimental Plan"
      ]
    },
    {
      "cell_type": "markdown",
      "metadata": {
        "id": "AGtJXBrQoiEG"
      },
      "source": [
        ""
      ]
    },
    {
      "cell_type": "markdown",
      "metadata": {
        "id": "40t2nfb9oioF"
      },
      "source": [
        "## Data and Observations"
      ]
    },
    {
      "cell_type": "markdown",
      "metadata": {
        "id": "l_UtC8OFqYNi"
      },
      "source": [
        ""
      ]
    },
    {
      "cell_type": "code",
      "metadata": {
        "colab": {
          "base_uri": "https://localhost:8080/"
        },
        "id": "KRDqv1YaR6DP",
        "outputId": "822547ef-fe2c-4c85-fe86-7e673d06d371"
      },
      "source": [
        "# Measured circumference and diameter\n",
        "\n",
        "circumference = 73.5 # cm\n",
        "diameter = 23.4 # cm\n",
        "\n",
        "circumference/diameter"
      ],
      "execution_count": null,
      "outputs": [
        {
          "output_type": "execute_result",
          "data": {
            "text/plain": [
              "3.1410256410256414"
            ]
          },
          "metadata": {
            "tags": []
          },
          "execution_count": 48
        }
      ]
    },
    {
      "cell_type": "code",
      "metadata": {
        "colab": {
          "base_uri": "https://localhost:8080/"
        },
        "id": "J6PNy-g8V6T5",
        "outputId": "76e8108a-3fd9-4a0d-9464-30811badd5e3"
      },
      "source": [
        "# Measured mass of square and circle\n",
        "\n",
        "square_mass = 7.8587 # g\n",
        "circle_mass = 6.1722 # g\n",
        "\n",
        "(circle_mass/square_mass)*4"
      ],
      "execution_count": null,
      "outputs": [
        {
          "output_type": "execute_result",
          "data": {
            "text/plain": [
              "3.141588303408961"
            ]
          },
          "metadata": {
            "tags": []
          },
          "execution_count": 47
        }
      ]
    },
    {
      "cell_type": "markdown",
      "metadata": {
        "id": "APknJMg9pGHV"
      },
      "source": [
        ""
      ]
    },
    {
      "cell_type": "markdown",
      "metadata": {
        "id": "r0tB3pTqpGrP"
      },
      "source": [
        "## Discussion of Results"
      ]
    },
    {
      "cell_type": "markdown",
      "metadata": {
        "id": "ILMhXbM9pK05"
      },
      "source": [
        ""
      ]
    },
    {
      "cell_type": "markdown",
      "metadata": {
        "id": "46Fu4jS2pLVk"
      },
      "source": [
        "## Conclusions"
      ]
    },
    {
      "cell_type": "markdown",
      "metadata": {
        "id": "aknIUXU1pYjR"
      },
      "source": [
        ""
      ]
    }
  ]
}