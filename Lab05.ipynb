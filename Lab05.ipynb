{
  "nbformat": 4,
  "nbformat_minor": 0,
  "metadata": {
    "colab": {
      "name": "Lab05.ipynb",
      "provenance": [],
      "collapsed_sections": [],
      "include_colab_link": true
    },
    "kernelspec": {
      "name": "python3",
      "display_name": "Python 3"
    },
    "language_info": {
      "name": "python"
    }
  },
  "cells": [
    {
      "cell_type": "markdown",
      "metadata": {
        "id": "view-in-github",
        "colab_type": "text"
      },
      "source": [
        "<a href=\"https://colab.research.google.com/github/mueller14003/PH150/blob/main/Lab05.ipynb\" target=\"_parent\"><img src=\"https://colab.research.google.com/assets/colab-badge.svg\" alt=\"Open In Colab\"/></a>"
      ]
    },
    {
      "cell_type": "markdown",
      "metadata": {
        "id": "weU7fMWAIJ3V"
      },
      "source": [
        "# Physics 150 \n",
        "# Lab #5 - Projectile Motion I\n"
      ]
    },
    {
      "cell_type": "markdown",
      "metadata": {
        "id": "v26PuClGFB9T"
      },
      "source": [
        "**Group 4:**\n",
        "* Kyle Mueller\n",
        "* Sam Fataua\n",
        "* Makenzy Pharis"
      ]
    },
    {
      "cell_type": "markdown",
      "metadata": {
        "id": "ErXT5Ju3Wywk"
      },
      "source": [
        "## Introduction"
      ]
    },
    {
      "cell_type": "markdown",
      "metadata": {
        "id": "VNvCFCdgV70a"
      },
      "source": [
        "Using Python code, you will construct a model for the motion of a projectile. We will neglect air resistance in our model. The model use of Euler's mthod for the x and y componentd of the motion. The equations are:\n",
        "\n",
        "$x_{n+1} = x_{n}+v_{x,n}\\times{}\\Delta{}t$\n",
        "\n",
        "$y_{n+1} = y_{n}+v_{y,n}\\times{}\\Delta{}t-\\frac{1}{2}g\\Delta{}t^2$\n",
        "\n",
        "$v_{x,n+1} = v_{x,n}$\n",
        "\n",
        "$v_{y,n+1} = v_{y,n}-g\\times{}\\Delta{}t$\n",
        "\n",
        "Using the model, you will predict the range of motion for a steel ball given an initial angle and initial heaight. You will need to do this for three different settings on the projectile launcher."
      ]
    },
    {
      "cell_type": "markdown",
      "metadata": {
        "id": "3ur0lV7-X3Zv"
      },
      "source": [
        "## Procedure"
      ]
    },
    {
      "cell_type": "markdown",
      "metadata": {
        "id": "rgWKmdMIX9iW"
      },
      "source": [
        "### *1. Determine the Initial Velocity for each Launch Setting*"
      ]
    },
    {
      "cell_type": "markdown",
      "metadata": {
        "id": "j-tCXELmYFdj"
      },
      "source": [
        "A good way to determine $v_i$ is to fire the projectile with $\\theta{}_{i}=0°$ from a known height, $y_i$.  (It is preferable to shoot from a table top.) The initial velocity can then be calculated using the equation:\n",
        "\n",
        "$$v_{i} = R\\sqrt{\\frac{g}{2y_{i}}}$$\n",
        "\n",
        "where R is the range."
      ]
    },
    {
      "cell_type": "markdown",
      "metadata": {
        "id": "ZTD9aUrQcuzL"
      },
      "source": [
        "![Picture1.png](data:image/png;base64,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)"
      ]
    },
    {
      "cell_type": "code",
      "metadata": {
        "colab": {
          "base_uri": "https://localhost:8080/",
          "height": 107
        },
        "id": "iAZSdkk1ZV0O",
        "outputId": "7bad298e-6740-4265-c282-b29a77805bd5"
      },
      "source": [
        "from IPython.display import Markdown\n",
        "\n",
        "g = 9.8\n",
        "y_i = 1.01\n",
        "get_vi = lambda R:f\"{R*(g/(2*y_i))**0.5:0.2f}|\"\n",
        "\n",
        "r = [1.02,1.59,2.15]\n",
        "\n",
        "header=\"|Power|$v_i$|\\n|:-:|-:|\\n\"\n",
        "Markdown(header+'\\n'.join([*map('|'.join,[*zip(map(lambda i:f\"|{i}\",range(1,4)),map(get_vi,r))])]))"
      ],
      "execution_count": 17,
      "outputs": [
        {
          "output_type": "execute_result",
          "data": {
            "text/markdown": "|Power|$v_i$|\n|:-:|-:|\n|1|2.25|\n|2|3.50|\n|3|4.74|",
            "text/plain": [
              "<IPython.core.display.Markdown object>"
            ]
          },
          "metadata": {
            "tags": []
          },
          "execution_count": 17
        }
      ]
    },
    {
      "cell_type": "markdown",
      "metadata": {
        "id": "U0jy-TBWa9yr"
      },
      "source": [
        "### *2. Construct a Python Model*"
      ]
    },
    {
      "cell_type": "markdown",
      "metadata": {
        "id": "xIH9VLGjbIhM"
      },
      "source": [
        "Using equations (1-4) above, write Python code that will output the range of motion:\n",
        "\n",
        "Programming tips:\n",
        "\n",
        "1.   You will need 2 constants, 6 initial conditions, and 3 equations in the “while” loop. You won't need an equation for $v_x$ in the \"while\" loop since it doesn't change and you don't need to keep track of $t$.\n",
        "2.   Inputs for sin and cos require the angle to be in radians.\n",
        "\n"
      ]
    },
    {
      "cell_type": "code",
      "metadata": {
        "id": "LawrAvOObnuB"
      },
      "source": [
        "from math import cos, sin, tan, pi\n",
        "\n",
        "g = 9.8\n",
        "dt = 0.01\n",
        "\n",
        "get_vi = lambda R:R*(g/(2*1.325))**0.5\n",
        "\n",
        "r = [1.25,1.92,2.67]\n",
        "\n",
        "v_i = dict(zip(range(1,4),map(get_vi,r)))\n",
        "\n",
        "v_ix = lambda p_lvl,θi: v_i.get(p_lvl)*cos(pi*θi/180)\n",
        "v_iy = lambda p_lvl,θi: v_i.get(p_lvl)*sin(pi*θi/180)\n",
        "\n",
        "x_np1 = lambda xn,vxn: xn+vxn*dt\n",
        "y_np1 = lambda yn,vyn: yn+vyn*dt - 0.5*g*dt**2\n",
        "v_ynp1 = lambda vyn: vyn-g*dt\n",
        "\n",
        "def fun(yi,θi,p_lvl):\n",
        "  x = 0\n",
        "  y = y_i\n",
        "  v_x = v_ix(p_lvl,θi)\n",
        "  v_y = v_iy(p_lvl,θi)\n",
        "  \n",
        "  while y > 0:\n",
        "    x = x_np1(x,v_x)\n",
        "    y = y_np1(y,v_y)\n",
        "    v_y = v_ynp1(v_y)\n",
        "  \n",
        "  return x"
      ],
      "execution_count": 7,
      "outputs": []
    },
    {
      "cell_type": "markdown",
      "metadata": {
        "id": "N8yLch4gboKg"
      },
      "source": [
        "### *3. Test the Model*"
      ]
    },
    {
      "cell_type": "markdown",
      "metadata": {
        "id": "uQRPKpHibsxa"
      },
      "source": [
        "Try different angles (two or three) at each launch setting. Use the model to give a predicted range and compare to the measured range. It is possible that the launch velocity might be dependent on launch angle. If the initial velocity needs to be adjusted, the following equation can be used:\n",
        "\n",
        "$$v_{i} = \\frac{R}{\\cos{\\theta{}_{i}}}\\sqrt{\\frac{g}{2(\\tan{\\theta{}_{i})R+2y_{i}})}}$$"
      ]
    },
    {
      "cell_type": "code",
      "metadata": {
        "colab": {
          "base_uri": "https://localhost:8080/"
        },
        "id": "d7pkhfuVn-5T",
        "outputId": "04561a44-e2f5-4d17-8591-fe2958999e54"
      },
      "source": [
        "ev = fun(1.01,30,1)\n",
        "av = 1.24\n",
        "print(f\"Expected: {ev:0.2f} m\\nActual: {av} m\")"
      ],
      "execution_count": 52,
      "outputs": [
        {
          "output_type": "stream",
          "text": [
            "Expected: 1.25 m\n",
            "Actual: 1.24 m\n"
          ],
          "name": "stdout"
        }
      ]
    },
    {
      "cell_type": "code",
      "metadata": {
        "colab": {
          "base_uri": "https://localhost:8080/"
        },
        "id": "NFwu1GdXoJ6x",
        "outputId": "cb0d2687-1f02-4918-c3bc-20503591836c"
      },
      "source": [
        "ev = fun(1.01,60,1)\n",
        "av = 0.89\n",
        "print(f\"Expected: {ev:0.2f} m\\nActual: {av} m\")"
      ],
      "execution_count": 51,
      "outputs": [
        {
          "output_type": "stream",
          "text": [
            "Expected: 0.87 m\n",
            "Actual: 0.89 m\n"
          ],
          "name": "stdout"
        }
      ]
    },
    {
      "cell_type": "code",
      "metadata": {
        "colab": {
          "base_uri": "https://localhost:8080/"
        },
        "id": "ugZQz4mCoNV1",
        "outputId": "ab0e664c-4be1-48a6-f0a9-aa4e9eb1bba3"
      },
      "source": [
        "ev = fun(1.01,30,2)\n",
        "av = 2.15\n",
        "print(f\"Expected: {ev:0.2f} m\\nActual: {av} m\")"
      ],
      "execution_count": 50,
      "outputs": [
        {
          "output_type": "stream",
          "text": [
            "Expected: 2.17 m\n",
            "Actual: 2.15 m\n"
          ],
          "name": "stdout"
        }
      ]
    },
    {
      "cell_type": "code",
      "metadata": {
        "colab": {
          "base_uri": "https://localhost:8080/"
        },
        "id": "qX1C7IydoPe5",
        "outputId": "37f21ddc-c831-41de-e826-e270210d204b"
      },
      "source": [
        "ev = fun(1.01,60,2)\n",
        "av = 1.66\n",
        "print(f\"Expected: {ev:0.2f} m\\nActual: {av} m\")"
      ],
      "execution_count": 49,
      "outputs": [
        {
          "output_type": "stream",
          "text": [
            "Expected: 1.64 m\n",
            "Actual: 1.66 m\n"
          ],
          "name": "stdout"
        }
      ]
    },
    {
      "cell_type": "code",
      "metadata": {
        "colab": {
          "base_uri": "https://localhost:8080/"
        },
        "id": "k5F5Zd0GoSwK",
        "outputId": "5178056a-91b5-49ab-f0f2-afae7aec1c01"
      },
      "source": [
        "ev = fun(1.01,30,3)\n",
        "av = 3.50\n",
        "print(f\"Expected: {ev:0.2f} m\\nActual: {av} m\")"
      ],
      "execution_count": 48,
      "outputs": [
        {
          "output_type": "stream",
          "text": [
            "Expected: 3.51 m\n",
            "Actual: 3.5 m\n"
          ],
          "name": "stdout"
        }
      ]
    },
    {
      "cell_type": "code",
      "metadata": {
        "colab": {
          "base_uri": "https://localhost:8080/"
        },
        "id": "Te1Mt0GCoWJk",
        "outputId": "93dbe6af-7840-4f98-94a8-604d71024195"
      },
      "source": [
        "ev = fun(1.01,60,3)\n",
        "av = 2.83\n",
        "print(f\"Expected: {ev:0.2f} m\\nActual: {av} m\")"
      ],
      "execution_count": 47,
      "outputs": [
        {
          "output_type": "stream",
          "text": [
            "Expected: 2.82 m\n",
            "Actual: 2.83 m\n"
          ],
          "name": "stdout"
        }
      ]
    },
    {
      "cell_type": "markdown",
      "metadata": {
        "id": "FJ8QOxtccHGJ"
      },
      "source": [
        "### *4. Ask the Insructor for your Initial Velocity and Setting*"
      ]
    },
    {
      "cell_type": "markdown",
      "metadata": {
        "id": "0U-lWqXXcR64"
      },
      "source": [
        "The instructor will give your group:\n",
        "\n",
        "1.\tAn initial angle (between 20° and 70°)\n",
        "2.\tAn initial height (between 1.0 and 1.4 meters)\n",
        "3.\tOne of the three settings on the launcher\n",
        "\n",
        "Using your model (you won’t be allowed to use your launcher after given this information) you will make a prediction on the range (horizontal distance) of the projectile. Let the instructor know when you are ready to test the prediction.\n"
      ]
    },
    {
      "cell_type": "code",
      "metadata": {
        "colab": {
          "base_uri": "https://localhost:8080/"
        },
        "id": "KVnbcqQ6sIOm",
        "outputId": "91fadda5-7f85-487d-c53d-2a119363deb1"
      },
      "source": [
        "y_0 = 1.131\n",
        "θ_0 = 34\n",
        "p_lvl = 2\n",
        "R_e = fun(y_0,θ_0,p_lvl)\n",
        "\n",
        "print(f\"Estimated range: {R_e:0.2f} m\")"
      ],
      "execution_count": 21,
      "outputs": [
        {
          "output_type": "stream",
          "text": [
            "Estimated range: 2.20 m\n"
          ],
          "name": "stdout"
        }
      ]
    },
    {
      "cell_type": "code",
      "metadata": {
        "colab": {
          "base_uri": "https://localhost:8080/"
        },
        "id": "Gzb3sDTklww8",
        "outputId": "5a0b02f1-0227-4a2f-acaf-ac6cda34f77f"
      },
      "source": [
        "# Actual recorded range\n",
        "R_a = 2.19\n",
        "\n",
        "print(f\"Expected: {R_e:0.2f} m\\nActual: {R_a} m\")"
      ],
      "execution_count": 54,
      "outputs": [
        {
          "output_type": "stream",
          "text": [
            "Expected: 2.20 m\n",
            "Actual: 2.19 m\n"
          ],
          "name": "stdout"
        }
      ]
    },
    {
      "cell_type": "markdown",
      "metadata": {
        "id": "y3iZDUkKcXxv"
      },
      "source": [
        "#### Final Score"
      ]
    },
    {
      "cell_type": "markdown",
      "metadata": {
        "id": "C0C-rekocaQ8"
      },
      "source": [
        "Your grade for the lab will be performance based and will be calculated from:  \n",
        "          \n",
        "100% - 3 x (percent difference of predicted and measured range).\n"
      ]
    },
    {
      "cell_type": "code",
      "metadata": {
        "colab": {
          "base_uri": "https://localhost:8080/"
        },
        "id": "vUqlOJP2xI0u",
        "outputId": "128437b7-f27f-48e2-8e24-998a4f0011fe"
      },
      "source": [
        "# Percent difference\n",
        "p_diff = (abs(R_a-R_e)/R_a) * 100\n",
        "\n",
        "# This seems unfair. We lost 2 percentage points for being 1cm off?\n",
        "grade = 100 - 3 * p_diff\n",
        "print(f\"Grade: {grade:0.2f}%\")"
      ],
      "execution_count": 53,
      "outputs": [
        {
          "output_type": "stream",
          "text": [
            "Grade: 98.09%\n"
          ],
          "name": "stdout"
        }
      ]
    }
  ]
}