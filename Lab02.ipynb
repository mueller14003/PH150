{
  "nbformat": 4,
  "nbformat_minor": 0,
  "metadata": {
    "colab": {
      "name": "Lab02.ipynb",
      "provenance": [],
      "collapsed_sections": [
        "1k_BNC4YJOnR",
        "7F0dGGiUei_s",
        "WW6QFA2PefHH",
        "JSNc5JKaJq9x",
        "Lt04pcToK4Cq",
        "tVZJWPJQLNaC"
      ],
      "authorship_tag": "ABX9TyNSRtTNflDxinQ1aJN7HR2/",
      "include_colab_link": true
    },
    "kernelspec": {
      "name": "python3",
      "display_name": "Python 3"
    },
    "language_info": {
      "name": "python"
    }
  },
  "cells": [
    {
      "cell_type": "markdown",
      "metadata": {
        "id": "view-in-github",
        "colab_type": "text"
      },
      "source": [
        "<a href=\"https://colab.research.google.com/github/mueller14003/PH150/blob/main/Lab02.ipynb\" target=\"_parent\"><img src=\"https://colab.research.google.com/assets/colab-badge.svg\" alt=\"Open In Colab\"/></a>"
      ]
    },
    {
      "cell_type": "markdown",
      "metadata": {
        "id": "weU7fMWAIJ3V"
      },
      "source": [
        "# Physics 150 \n",
        "# Lab #2 - Simple Pendulum - Plotting"
      ]
    },
    {
      "cell_type": "markdown",
      "metadata": {
        "id": "v26PuClGFB9T"
      },
      "source": [
        "**Group 4:**\n",
        "* Kyle Mueller\n",
        "* Sam Fataua\n",
        "* Makenzy Pharis"
      ]
    },
    {
      "cell_type": "markdown",
      "metadata": {
        "id": "PjtBcfT0IOXs"
      },
      "source": [
        "The simple pendulum consists of a mass attached to a string. The length, L, is measured from the pivot to the center of mass. The period, T, is defined as the time to make one complete oscillation. For small angles (less than ~10°), the length and period are related by the equation:\n",
        "\n",
        "(1)\n",
        "$$T = 2\\pi{}\\sqrt{\\frac{L}{g}}$$\n",
        "\n",
        "Squaring both sides of eqn. (1) gives:\n",
        "\n",
        "(2)\n",
        "$$T^2 = \\frac{4\\pi{}^2}{g}L$$"
      ]
    },
    {
      "cell_type": "markdown",
      "metadata": {
        "id": "1k_BNC4YJOnR"
      },
      "source": [
        "## **Activity I** - Single Data Point (25 pts.)"
      ]
    },
    {
      "cell_type": "markdown",
      "metadata": {
        "id": "e3xE6KrLJYIh"
      },
      "source": [
        "Use the example on pp.68-69 of the text as a guide. Using just one data point for length and period, determine a value for g with its uncertainty. Explain how you came up with your values for $\\delta{}$l and $\\delta{}$T. Your goal is to maximize the accuracy for g and minimize its uncertainty. Show your work below."
      ]
    },
    {
      "cell_type": "markdown",
      "metadata": {
        "id": "n5TKFBDUbV0k"
      },
      "source": [
        "$g = \\frac{4\\pi{}^2}{T^2}L$"
      ]
    },
    {
      "cell_type": "markdown",
      "metadata": {
        "id": "7F0dGGiUei_s"
      },
      "source": [
        "### Calculations"
      ]
    },
    {
      "cell_type": "code",
      "metadata": {
        "id": "DS-Hsl66bPen"
      },
      "source": [
        "from math import pi, sqrt"
      ],
      "execution_count": null,
      "outputs": []
    },
    {
      "cell_type": "code",
      "metadata": {
        "id": "AAZ7vUt5bIw5"
      },
      "source": [
        "L = 0.94\n",
        "dL = 0.002\n",
        "T = 1.94\n",
        "dT = 0.1"
      ],
      "execution_count": null,
      "outputs": []
    },
    {
      "cell_type": "code",
      "metadata": {
        "id": "ZVCjUecoblEu"
      },
      "source": [
        "g = L*(4*pi**2)/(T**2)\n",
        "dg = g * sqrt(((dL/L)**2) + ((2*(dT/T))**2))"
      ],
      "execution_count": null,
      "outputs": []
    },
    {
      "cell_type": "markdown",
      "metadata": {
        "id": "WW6QFA2PefHH"
      },
      "source": [
        "### Values"
      ]
    },
    {
      "cell_type": "code",
      "metadata": {
        "colab": {
          "base_uri": "https://localhost:8080/"
        },
        "id": "-D2SDMSgbtMk",
        "outputId": "fbe4b0df-aa62-4e57-eed6-7d7032e2ac83"
      },
      "source": [
        "print(f\"Estimated gravity: {g:0.2f} m/s²\")"
      ],
      "execution_count": null,
      "outputs": [
        {
          "output_type": "stream",
          "text": [
            "Estimated gravity: 9.86 m/s²\n"
          ],
          "name": "stdout"
        }
      ]
    },
    {
      "cell_type": "code",
      "metadata": {
        "colab": {
          "base_uri": "https://localhost:8080/"
        },
        "id": "fC9LHdjcdB2R",
        "outputId": "b1875989-ba5a-4cd4-e83d-2c25644993e1"
      },
      "source": [
        "print(f\"Uncertainty of estimated gravity: {dg:0.0f} m/s²\")"
      ],
      "execution_count": null,
      "outputs": [
        {
          "output_type": "stream",
          "text": [
            "Uncertainty of estimated gravity: 1 m/s²\n"
          ],
          "name": "stdout"
        }
      ]
    },
    {
      "cell_type": "markdown",
      "metadata": {
        "id": "1p2xfY7Pc7Ig"
      },
      "source": [
        "### Response"
      ]
    },
    {
      "cell_type": "markdown",
      "metadata": {
        "id": "SXr-zO4Qf9Jb"
      },
      "source": [
        "How we came up with $\\delta{}L$:\n",
        "\n",
        "To find the uncertainty of L, we concluded that the center of mass of the weight attatched to the pendulum was within a certain range of values. The possible values for the measurement ranged between approximately 0.938m and 0.942m, so we determined that the uncertainty of L was 0.002m."
      ]
    },
    {
      "cell_type": "markdown",
      "metadata": {
        "id": "xcXCe5Xrep5y"
      },
      "source": [
        "How we came up with $\\delta{}T$:\n",
        "\n",
        "To find the uncertainty of T, we timed the period of the pendulum a few times. We found that the recorded values of T ranged from around 1.85s to around 2.05s. From this data, we can conclude that the approximate uncertainty of T is 0.1s."
      ]
    },
    {
      "cell_type": "markdown",
      "metadata": {
        "id": "JSNc5JKaJq9x"
      },
      "source": [
        "## **Activity II** - Plot by Hand (25 pts.)"
      ]
    },
    {
      "cell_type": "markdown",
      "metadata": {
        "id": "9ERHmEz6Jy4a"
      },
      "source": [
        "**(Note: Each member of the group should produce a separate graph for this Activity.)\n",
        "\n",
        "Vary the length of the string from 0.25 m to 2 meters. For five different lengths, measure the period for one oscillation using a photogate. Make a plot of T² vs. L by hand. Fit a straight line to the data and determine the slope of the line (on your graph, show the \"rise\" and \"run\" that are used to calculate the slope). "
      ]
    },
    {
      "cell_type": "markdown",
      "metadata": {
        "id": "Ets57DNulJAP"
      },
      "source": [
        "| Length (m) | Time (s) |\n",
        "|------------|----------|\n",
        "| 0.24       | 0.9742   |\n",
        "| 0.50       | 1.4170   |\n",
        "| 0.98       | 1.9791   |\n",
        "| 1.46       | 2.4119   |\n",
        "| 1.97       | 2.8126   |\n",
        "\n"
      ]
    },
    {
      "cell_type": "markdown",
      "metadata": {
        "id": "Ap04GfsyKJJl"
      },
      "source": [
        "Write the equation of the straight line:"
      ]
    },
    {
      "cell_type": "markdown",
      "metadata": {
        "id": "xhLY-ViKKMsw"
      },
      "source": [
        "$T^2=4L$"
      ]
    },
    {
      "cell_type": "markdown",
      "metadata": {
        "id": "_qtvzbwHKNce"
      },
      "source": [
        "By setting the slope of the line equal to $\\frac{4\\pi{}^2}{g}$, a value for g (the acceleration of gravity) can be determined. Compare your value of g to the accepted value of 9.80 m/s²."
      ]
    },
    {
      "cell_type": "markdown",
      "metadata": {
        "id": "pWEUllKPKlyP"
      },
      "source": [
        "Measured value of g: 9.86 m/s²"
      ]
    },
    {
      "cell_type": "markdown",
      "metadata": {
        "id": "dDECt-4SKowV"
      },
      "source": [
        "% Error:"
      ]
    },
    {
      "cell_type": "markdown",
      "metadata": {
        "id": "XIrBG7NlKqj9"
      },
      "source": [
        "Hint: % Error = $\\frac{|accepted - measired|}{accepted} \\times 100$%"
      ]
    },
    {
      "cell_type": "code",
      "metadata": {
        "id": "NkDJlu_W2zI-"
      },
      "source": [
        "accepted = 9.80\n",
        "measured = 9.86\n",
        "p_err = (abs(accepted-measured)/accepted)*100"
      ],
      "execution_count": null,
      "outputs": []
    },
    {
      "cell_type": "code",
      "metadata": {
        "colab": {
          "base_uri": "https://localhost:8080/"
        },
        "id": "ii2HUZJJ3bkp",
        "outputId": "74c4c475-aec2-47ca-de2e-1aece21e940f"
      },
      "source": [
        "print(f\"Percent Error: {p_err:0.2f}%\")"
      ],
      "execution_count": null,
      "outputs": [
        {
          "output_type": "stream",
          "text": [
            "Percent Error: 0.61%\n"
          ],
          "name": "stdout"
        }
      ]
    },
    {
      "cell_type": "markdown",
      "metadata": {
        "id": "HMOQGsN_KrDb"
      },
      "source": [
        "A simple pendulum of unknown length will be set up in the front of the classroom by the instructor. Measure the period of oscillation and use your hand drawn graph to estimate the length. Show the data point on your graph using a red pencil or pen."
      ]
    },
    {
      "cell_type": "markdown",
      "metadata": {
        "id": "jRAj4iMHKxL1"
      },
      "source": [
        "Estimated Length:"
      ]
    },
    {
      "cell_type": "code",
      "metadata": {
        "id": "GdCz47gb3wOG"
      },
      "source": [
        "estimate_length = lambda time: (time**2)/4"
      ],
      "execution_count": null,
      "outputs": []
    },
    {
      "cell_type": "code",
      "metadata": {
        "id": "R6lMTkEl4AJa",
        "colab": {
          "base_uri": "https://localhost:8080/"
        },
        "outputId": "26d40df6-7199-43cd-f0c3-3fa97f7c0f03"
      },
      "source": [
        "print(f\"Estimated Length: {estimate_length(2.22):0.2f}m\")"
      ],
      "execution_count": null,
      "outputs": [
        {
          "output_type": "stream",
          "text": [
            "Estimated Length: 1.23m\n"
          ],
          "name": "stdout"
        }
      ]
    },
    {
      "cell_type": "markdown",
      "metadata": {
        "id": "Lt04pcToK4Cq"
      },
      "source": [
        "## **Activity III** - Plot using Jupyter Notebook (25 pts.)"
      ]
    },
    {
      "cell_type": "markdown",
      "metadata": {
        "id": "_as_gIaIK-Gd"
      },
      "source": [
        "Using the data from Activity 2, make a plot of T² vs. L using Python. Fit a straight line to the data points. The Python code to plot the data and fit a straight line is given below. From the slope of the fit, determine a value of g with its uncertainty. Include the correct units. Include your graph in your submission."
      ]
    },
    {
      "cell_type": "markdown",
      "metadata": {
        "id": "Wa6mWnGQLFz_"
      },
      "source": [
        "Measured value of g: 9.84 m/s²"
      ]
    },
    {
      "cell_type": "code",
      "metadata": {
        "id": "BR4DjozDLMzo"
      },
      "source": [
        "import matplotlib.pyplot as plt\n",
        "import numpy as np\n",
        "from scipy import stats\n",
        "from math import pi"
      ],
      "execution_count": null,
      "outputs": []
    },
    {
      "cell_type": "code",
      "metadata": {
        "id": "aN7tb7eOTWau"
      },
      "source": [
        "l = [0.24, 0.50, 0.98, 1.46, 1.97]\n",
        "time = [0.9742, 1.4170, 1.9791, 2.4119, 2.8126]\n",
        "t = np.array(time,float)"
      ],
      "execution_count": null,
      "outputs": []
    },
    {
      "cell_type": "code",
      "metadata": {
        "id": "-3YBxgXUTZ7I",
        "colab": {
          "base_uri": "https://localhost:8080/",
          "height": 265
        },
        "outputId": "424b6e13-3d7a-4415-95fa-1fff9b43d0f3"
      },
      "source": [
        "plt.plot(l,t**2,\"go\")\n",
        "slope, intercept, r_value, p_value, std_err = stats.linregress(l,t**2)\n",
        "x = np.linspace(0,2.8,10)\n",
        "y = slope * x + intercept\n",
        "plt.plot(x,y,'b')\n",
        "plt.show()"
      ],
      "execution_count": null,
      "outputs": [
        {
          "output_type": "display_data",
          "data": {
            "image/png": "[encoded data removed]",
            "text/plain": [
              "<Figure size 432x288 with 1 Axes>"
            ]
          },
          "metadata": {
            "tags": [],
            "needs_background": "light"
          }
        }
      ]
    },
    {
      "cell_type": "code",
      "metadata": {
        "id": "tl3VBx20Td-_"
      },
      "source": [
        "g = 4*pi**2/slope\n",
        "un_g = g*std_err/slope"
      ],
      "execution_count": null,
      "outputs": []
    },
    {
      "cell_type": "code",
      "metadata": {
        "colab": {
          "base_uri": "https://localhost:8080/"
        },
        "id": "G09-sK7R5o14",
        "outputId": "a09e7437-aae6-47f2-bbee-314225b11a50"
      },
      "source": [
        "print(f\"Estimated Gravity: {g:0.2f} m/s²\")"
      ],
      "execution_count": null,
      "outputs": [
        {
          "output_type": "stream",
          "text": [
            "Estimated Gravity: 9.84 m/s²\n"
          ],
          "name": "stdout"
        }
      ]
    },
    {
      "cell_type": "code",
      "metadata": {
        "colab": {
          "base_uri": "https://localhost:8080/"
        },
        "id": "JA8nh1nk5vo2",
        "outputId": "fd703b58-782b-4b23-a069-e0086141a1b3"
      },
      "source": [
        "print(f\"Uncertainty of estimated Gravity: {un_g:0.2f} m/s²\")"
      ],
      "execution_count": null,
      "outputs": [
        {
          "output_type": "stream",
          "text": [
            "Uncertainty of estimated Gravity: 0.04 m/s²\n"
          ],
          "name": "stdout"
        }
      ]
    },
    {
      "cell_type": "markdown",
      "metadata": {
        "id": "tVZJWPJQLNaC"
      },
      "source": [
        "## **Activity IV** - Simple Pendulum with Damping (25 pts.)"
      ]
    },
    {
      "cell_type": "markdown",
      "metadata": {
        "id": "enOXgOf3LSVy"
      },
      "source": [
        "Using a ping pong ball attached to the end of a 1.50 m length string, measure the amplitude of the oscillation as a function of time. To measure the angle, you can take a video of the motion. Make sure you have some kind of scale visible when you take the video. The amplitude should decay exponentially according to:\n",
        "\n",
        "$$\\theta{}(t) = \\theta{}_o{}e^{-bt/m}$$\n",
        "\n",
        "where $\\theta{}_o{}$ is the initial angle, $m$ is the mass of the ping pong ball, and $b$ is the damping constant. \n",
        "Make a plot of your data as well as equation 3. You will need to adjust the value of b until you get a good fit. Report your value of the damping constant with the proper units. Include your graph with your submission.\n"
      ]
    },
    {
      "cell_type": "markdown",
      "metadata": {
        "id": "iDgcHXcoLxSn"
      },
      "source": [
        "b = 0.00035 g/s"
      ]
    },
    {
      "cell_type": "markdown",
      "metadata": {
        "id": "njyiVwToLzBE"
      },
      "source": [
        "To plot equation 3, you can use the following code:"
      ]
    },
    {
      "cell_type": "code",
      "metadata": {
        "id": "dRJfAENQ9NlZ"
      },
      "source": [
        "t_p = [0,3,5,10,18,23]\n",
        "theta = [20,10,5,4.5,2.5,1.5]"
      ],
      "execution_count": null,
      "outputs": []
    },
    {
      "cell_type": "code",
      "metadata": {
        "id": "1mwq7XY2L1c8",
        "colab": {
          "base_uri": "https://localhost:8080/",
          "height": 265
        },
        "outputId": "ab364a98-3ad2-47c0-93d2-3ba1106b275b"
      },
      "source": [
        "import matplotlib.pyplot as plt\n",
        "import numpy as np\n",
        "\n",
        "b = 0.00035                 # damping coefficient\n",
        "m = 0.0017                  # mass of ping pong ball in kg\n",
        "\n",
        "plt.plot(t_p,theta,\"go\")\n",
        "\n",
        "θo = 20\n",
        "t = np.linspace(0,23,100)   # tmax will be your time range\n",
        "θ = θo*np.exp(-b*t/m)       # enter value for θo\n",
        "plt.plot(t,θ)\n",
        "plt.grid()\n",
        "plt.show()"
      ],
      "execution_count": null,
      "outputs": [
        {
          "output_type": "display_data",
          "data": {
            "image/png": "[encoded data removed]",
            "text/plain": [
              "<Figure size 432x288 with 1 Axes>"
            ]
          },
          "metadata": {
            "tags": [],
            "needs_background": "light"
          }
        }
      ]
    }
  ]
}