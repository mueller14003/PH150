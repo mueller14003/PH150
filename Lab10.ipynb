{
  "nbformat": 4,
  "nbformat_minor": 0,
  "metadata": {
    "colab": {
      "name": "Lab10.ipynb",
      "provenance": [],
      "collapsed_sections": [],
      "include_colab_link": true
    },
    "kernelspec": {
      "name": "python3",
      "display_name": "Python 3"
    },
    "language_info": {
      "name": "python"
    }
  },
  "cells": [
    {
      "cell_type": "markdown",
      "metadata": {
        "id": "view-in-github",
        "colab_type": "text"
      },
      "source": [
        "<a href=\"https://colab.research.google.com/github/mueller14003/PH150/blob/main/Lab10.ipynb\" target=\"_parent\"><img src=\"https://colab.research.google.com/assets/colab-badge.svg\" alt=\"Open In Colab\"/></a>"
      ]
    },
    {
      "cell_type": "markdown",
      "metadata": {
        "id": "weU7fMWAIJ3V"
      },
      "source": [
        "# Physics 150 \n",
        "# Lab #10 - Moment of Inertia\n"
      ]
    },
    {
      "cell_type": "markdown",
      "metadata": {
        "id": "v26PuClGFB9T"
      },
      "source": [
        "**Group 4:**\n",
        "* Kyle Mueller\n",
        "* Sam Fataua\n",
        "* Makenzy Pharis"
      ]
    },
    {
      "cell_type": "markdown",
      "metadata": {
        "id": "f5HVCmO_glns"
      },
      "source": [
        "The predicted moment of inertia for a rectangular rod can be calculated from:\n",
        "\n",
        "$$I_{pred}=Mh^{2}+\\frac{1}{12}ML^{2}$$\n",
        "\n",
        "where L and M are the total length and mass of the rectangular rod, respectively. h is shown in Figure 1 above.\n",
        "\n",
        "An experimental value can be computed by measuring the speed of the rod at the bottom of its arc using the photogate. In the gate mode, you can measure the time that the ruler blocks the photogate. The velocity will be equal to the width of the ruler divided by the time blocked. The angular velocity of the rod at the bottom can then be computed from:\n",
        "\n",
        "$$v=\\omega{}r$$\n",
        "\n",
        "An experimental value for the moment of inertia can be calculated from the conservation of energy equation:\n",
        "\n",
        "$$Mgh=\\frac{1}{2}I_{exp}\\omega{}^{2}$$\n",
        "\n",
        "where $g=9.80 \\pm{} 0.01\\ m/s^{2}$\n",
        "\n",
        "Vary the position of the pivot (Point P in Fig. 1) and collect a total of 9 data points."
      ]
    },
    {
      "cell_type": "markdown",
      "metadata": {
        "id": "1-7cQHZSinOZ"
      },
      "source": [
        "The uncertainties can be calculated using the equations in the table below.\n",
        "\n",
        "| Equation                | Uncertainty                                     |\n",
        "|-------------------------|-------------------------------------------------|\n",
        "| $v=\\frac{w}{t}$ | $\\frac{\\delta{}v}{v}=\\sqrt{(\\frac{\\delta{}w}{w})^{2}(\\frac{\\delta{}t}{t})^{2}}$ |\n",
        "| $\\omega{}=\\frac{v}{r}$ | $\\frac{\\delta{}w}{w}=\\sqrt{(\\frac{\\delta{}v}{v})^{2}+(\\frac{\\delta{}r}{r})^{2}}$ |\n",
        "| $I_{exp}=\\frac{2Mgh}{\\omega{}^{2}}$ | $\\frac{\\delta{}I_{exp}}{I_{exp}}=\\sqrt{(\\frac{\\delta{}M}{M})^{2} + (\\frac{\\delta{}g}{g})^{2} + (\\frac{\\delta{}h}{h})^{2} + (2\\frac{\\delta{}\\omega{}}{\\omega{}})^{2}}$ |\n"
      ]
    },
    {
      "cell_type": "markdown",
      "metadata": {
        "id": "ZFeJ7e6zmFTb"
      },
      "source": [
        "1. (40 pts) Use propogation of errors to determine the uncertainty in your $I_{exp}$ values. In a Jupyter Notebook, make a table that gives values for: $h$, $t$, $v$, $\\delta{}v$, $\\omega{}$, $\\delta{}\\omega{}$, $I_{exp}$, $\\delta{}I_{exp}$, and $I_{pred}$."
      ]
    },
    {
      "cell_type": "code",
      "metadata": {
        "id": "NZfWOciaoBLT"
      },
      "source": [
        "M = 0.1232 # kg\n",
        "δM = 0.0001 # kg\n",
        "\n",
        "g = 9.80 # m/s^2\n",
        "δg = 0.01 # m/s^2\n",
        "\n",
        "L = 1 # m\n",
        "\n",
        "predict_I = lambda h: M*h**2 + (1/12)*M*L**2\n",
        "\n",
        "hl = [0.45,0.40,0.35,0.30,0.25,0.20,0.15,0.10,0.05] # m\n",
        "δhl = [0.001]*9 # m\n",
        "\n",
        "vl = [5.051955513,4.956629276,4.755111694,4.436557293,4.124561787,3.7509377,3.265839338,2.635393381,1.81028235] # m/s\n",
        "# Determined by taking multiple measurements at one h value\n",
        "δvl = [.1]*9 # m/s\n",
        "\n",
        "rl = [0.925,0.895,0.840,0.780,0.730,0.685,0.63,0.58,0.54] # m\n",
        "δrl = [0.001]*9 # m\n",
        "\n",
        "ωl = [*map(lambda v,r:v/r,vl,rl)] # s^-1\n",
        "δωl = [*map(lambda v,δv,r,δr,ω: ω*((δv/v)**2+(δr/r)**2)**0.5, vl,δvl,rl,δrl,ωl)] # s^-1\n",
        "\n",
        "I_exp = [*map(lambda h,ω: (2*M*g*h)/(ω**2), hl,ωl)] # kg m^2\n",
        "δI_exp = [*map(lambda h,δh,ω,δω,Ie: Ie*((δM/M)**2+(δg/g)**2+(δh/h)**2+(2*(δω/ω))**2)**0.5, hl,δhl,ωl,δωl,I_exp)] # kg m^2\n",
        "\n",
        "I_pred = [*map(predict_I,hl)] # kg m^2"
      ],
      "execution_count": 45,
      "outputs": []
    },
    {
      "cell_type": "code",
      "metadata": {
        "colab": {
          "base_uri": "https://localhost:8080/",
          "height": 226
        },
        "id": "UXp2DIM903wt",
        "outputId": "2102457e-cef1-4daa-cb1c-e83d085424b3"
      },
      "source": [
        "from IPython.display import Markdown\n",
        "\n",
        "header = \"| $h\\ (m)$ | $v\\ (m/s)$ | $\\delta{}v\\ (m/s)$ | $\\omega{}\\ (s^{-1}$) | $\\delta{}\\omega{}\\ (s^{-1}$) | $I_{exp}\\ (kg\\cdot m^{2})$ | $\\delta{}I_{exp}\\ (kg\\cdot m^{2})$ | $I_{pred}\\ (kg\\cdot m^{2})$ |\\n|-:|-:|-:|-:|-:|-:|-:|-:|\\n\"\n",
        "\n",
        "body = '\\n'.join([*map(lambda h,v,δv,ω,δω,Ie,δIe,Ip:f\"|{h:0.2f}|{v:0.1f}|{δv:0.1f}|{ω:0.1f}|{δω:0.1f}|{Ie:0.3f}|{δIe:0.3f}|{Ip:0.3f}|\", hl,vl,δvl,ωl,δωl,I_exp,δI_exp,I_pred)])\n",
        "\n",
        "Markdown(header + body)"
      ],
      "execution_count": 46,
      "outputs": [
        {
          "output_type": "execute_result",
          "data": {
            "text/markdown": "| $h\\ (m)$ | $v\\ (m/s)$ | $\\delta{}v\\ (m/s)$ | $\\omega{}\\ (s^{-1}$) | $\\delta{}\\omega{}\\ (s^{-1}$) | $I_{exp}\\ (kg\\cdot m^{2})$ | $\\delta{}I_{exp}\\ (kg\\cdot m^{2})$ | $I_{pred}\\ (kg\\cdot m^{2})$ |\n|-:|-:|-:|-:|-:|-:|-:|-:|\n|0.45|5.1|0.1|5.5|0.1|0.036|0.001|0.035|\n|0.40|5.0|0.1|5.5|0.1|0.031|0.001|0.030|\n|0.35|4.8|0.1|5.7|0.1|0.026|0.001|0.025|\n|0.30|4.4|0.1|5.7|0.1|0.022|0.001|0.021|\n|0.25|4.1|0.1|5.7|0.1|0.019|0.001|0.018|\n|0.20|3.8|0.1|5.5|0.1|0.016|0.001|0.015|\n|0.15|3.3|0.1|5.2|0.2|0.013|0.001|0.013|\n|0.10|2.6|0.1|4.5|0.2|0.012|0.001|0.011|\n|0.05|1.8|0.1|3.4|0.2|0.011|0.001|0.011|",
            "text/plain": [
              "<IPython.core.display.Markdown object>"
            ]
          },
          "metadata": {
            "tags": []
          },
          "execution_count": 46
        }
      ]
    },
    {
      "cell_type": "markdown",
      "metadata": {
        "id": "fR6rkhl6m4XG"
      },
      "source": [
        "2. (50 pts) Make a plot of $I_{pred}$ and $I_{exp}$ vs. $h$ on the same graph. Show error bars for $I_{exp}$ values. Properly label your axes. The $I_{pred}$ vs. $h$ will be a solid line and the $I_{exp}$ vs. $h$ will be discrete points."
      ]
    },
    {
      "cell_type": "code",
      "metadata": {
        "id": "5-hVFTEGoCN_"
      },
      "source": [
        ""
      ],
      "execution_count": null,
      "outputs": []
    },
    {
      "cell_type": "markdown",
      "metadata": {
        "id": "WpFLYJuenw_n"
      },
      "source": [
        "3. (10 pts) Explain any discrepancy between the predicted and the experimental values."
      ]
    },
    {
      "cell_type": "markdown",
      "metadata": {
        "id": "4wVG9UDuoDH_"
      },
      "source": [
        ""
      ]
    }
  ]
}