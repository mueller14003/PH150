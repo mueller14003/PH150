{
  "nbformat": 4,
  "nbformat_minor": 0,
  "metadata": {
    "colab": {
      "name": "Lab01.ipynb",
      "provenance": [],
      "collapsed_sections": [],
      "include_colab_link": true
    },
    "kernelspec": {
      "name": "python3",
      "display_name": "Python 3"
    },
    "language_info": {
      "name": "python"
    }
  },
  "cells": [
    {
      "cell_type": "markdown",
      "metadata": {
        "id": "view-in-github",
        "colab_type": "text"
      },
      "source": [
        "<a href=\"https://colab.research.google.com/github/mueller14003/PH150/blob/main/Lab01.ipynb\" target=\"_parent\"><img src=\"https://colab.research.google.com/assets/colab-badge.svg\" alt=\"Open In Colab\"/></a>"
      ]
    },
    {
      "cell_type": "markdown",
      "metadata": {
        "id": "sBIikcvmKnK8"
      },
      "source": [
        "# Physics 150 \n",
        "# Lab #1 - Density Calculation and Introduction to Error Analysis"
      ]
    },
    {
      "cell_type": "markdown",
      "metadata": {
        "id": "v26PuClGFB9T"
      },
      "source": [
        "## Group 4:\n",
        "* Kyle Mueller\n",
        "* Sam Fataua\n",
        "* Makenzy Pharis"
      ]
    },
    {
      "cell_type": "markdown",
      "metadata": {
        "id": "dsGJf46XKj6L"
      },
      "source": [
        "## **Activity I** (25 points)"
      ]
    },
    {
      "cell_type": "markdown",
      "metadata": {
        "id": "pWVu9C3lFpNN"
      },
      "source": [
        "Determine the density of a metal cylinder **in units of $\\frac{g}{cm^3}$**. Use this density to determine the mass of a block (units of grams) of the same composition as the cylinder."
      ]
    },
    {
      "cell_type": "markdown",
      "metadata": {
        "id": "E5y1PA7DGYdP"
      },
      "source": [
        "Note: **You cannot directly measure the mass of the block.** The instructor will make the mass measurement."
      ]
    },
    {
      "cell_type": "markdown",
      "metadata": {
        "id": "K1W-7j9eJJGq"
      },
      "source": [
        "### Calculations"
      ]
    },
    {
      "cell_type": "code",
      "metadata": {
        "id": "L7sXpwrIGlxU"
      },
      "source": [
        "from math import pi"
      ],
      "execution_count": null,
      "outputs": []
    },
    {
      "cell_type": "code",
      "metadata": {
        "id": "frlYwSN-GJ0i"
      },
      "source": [
        "hc = 4.97 # Height of cylinder\n",
        "Dc = 1.26 # Diameter of cylinder\n",
        "rc = Dc / 2 # Radius of cylinder"
      ],
      "execution_count": null,
      "outputs": []
    },
    {
      "cell_type": "code",
      "metadata": {
        "colab": {
          "base_uri": "https://localhost:8080/"
        },
        "id": "lgK9pYvwKvac",
        "outputId": "ad923370-df61-442b-dadc-53dedc4121f3"
      },
      "source": [
        "# Volume of Cylinder\n",
        "Vc = pi * (rc**2) * hc\n",
        "Vc"
      ],
      "execution_count": null,
      "outputs": [
        {
          "output_type": "execute_result",
          "data": {
            "text/plain": [
              "6.1970836773226505"
            ]
          },
          "metadata": {
            "tags": []
          },
          "execution_count": 18
        }
      ]
    },
    {
      "cell_type": "code",
      "metadata": {
        "id": "R1hGWNWNHP4r"
      },
      "source": [
        "mc = 55.9 # Mass of cylinder"
      ],
      "execution_count": null,
      "outputs": []
    },
    {
      "cell_type": "code",
      "metadata": {
        "colab": {
          "base_uri": "https://localhost:8080/"
        },
        "id": "xBLlhmp9HWhE",
        "outputId": "768156ea-ff57-4829-8d9a-59d1d389bc4e"
      },
      "source": [
        "# Density Calculation\n",
        "p = mc / Vc\n",
        "p"
      ],
      "execution_count": null,
      "outputs": [
        {
          "output_type": "execute_result",
          "data": {
            "text/plain": [
              "9.020371986351924"
            ]
          },
          "metadata": {
            "tags": []
          },
          "execution_count": 22
        }
      ]
    },
    {
      "cell_type": "code",
      "metadata": {
        "id": "NfckWruoSx6o"
      },
      "source": [
        "lb = 1.88 # Length of block\n",
        "wb = 1.89 # Width of block\n",
        "hb = 3.90 # Height of block"
      ],
      "execution_count": null,
      "outputs": []
    },
    {
      "cell_type": "code",
      "metadata": {
        "colab": {
          "base_uri": "https://localhost:8080/"
        },
        "id": "FmkDsSKLHvwp",
        "outputId": "5ab66012-5935-4c18-ccf8-329782d21ac1"
      },
      "source": [
        "# Volume of Block\n",
        "Vb = lb * wb * hb\n",
        "Vb"
      ],
      "execution_count": null,
      "outputs": [
        {
          "output_type": "execute_result",
          "data": {
            "text/plain": [
              "13.857479999999997"
            ]
          },
          "metadata": {
            "tags": []
          },
          "execution_count": 31
        }
      ]
    },
    {
      "cell_type": "code",
      "metadata": {
        "colab": {
          "base_uri": "https://localhost:8080/"
        },
        "id": "NDcayz6-IOeK",
        "outputId": "e58c0bf4-64c2-4f9b-957d-dc61838e0d76"
      },
      "source": [
        "# Predicted Mass of Block\n",
        "mb = Vb * p\n",
        "mb"
      ],
      "execution_count": null,
      "outputs": [
        {
          "output_type": "execute_result",
          "data": {
            "text/plain": [
              "124.99962439343203"
            ]
          },
          "metadata": {
            "tags": []
          },
          "execution_count": 32
        }
      ]
    },
    {
      "cell_type": "code",
      "metadata": {
        "colab": {
          "base_uri": "https://localhost:8080/"
        },
        "id": "Bpdvi_XKJqKg",
        "outputId": "62fe4f4f-5509-4872-fa2d-efc81d8ff922"
      },
      "source": [
        "# Actual Mass of Block\n",
        "mba = 124.6\n",
        "mba"
      ],
      "execution_count": null,
      "outputs": [
        {
          "output_type": "execute_result",
          "data": {
            "text/plain": [
              "124.6"
            ]
          },
          "metadata": {
            "tags": []
          },
          "execution_count": 36
        }
      ]
    },
    {
      "cell_type": "markdown",
      "metadata": {
        "id": "C-8g955jJQ_2"
      },
      "source": [
        "### Values"
      ]
    },
    {
      "cell_type": "code",
      "metadata": {
        "colab": {
          "base_uri": "https://localhost:8080/"
        },
        "id": "9Sd-LGPjI0SL",
        "outputId": "7923f9fe-56a2-42e6-9561-bca7a4b08619"
      },
      "source": [
        "print(f\"Density of Cylinder: {p:0.2f} g/cm³\")"
      ],
      "execution_count": null,
      "outputs": [
        {
          "output_type": "stream",
          "text": [
            "Density of Cylinder: 9.02 g/cm³\n"
          ],
          "name": "stdout"
        }
      ]
    },
    {
      "cell_type": "code",
      "metadata": {
        "colab": {
          "base_uri": "https://localhost:8080/"
        },
        "id": "2t2RItN5JW-Z",
        "outputId": "746c2832-7d0c-4fee-9ee0-bec1c8032e88"
      },
      "source": [
        "print(f\"Predicted Mass of Block: {mb:0.2f} g\")"
      ],
      "execution_count": null,
      "outputs": [
        {
          "output_type": "stream",
          "text": [
            "Predicted Mass of Block: 125.00 g\n"
          ],
          "name": "stdout"
        }
      ]
    },
    {
      "cell_type": "code",
      "metadata": {
        "colab": {
          "base_uri": "https://localhost:8080/"
        },
        "id": "GTHjtBznJiX3",
        "outputId": "e4b8e707-349f-4f77-d524-caf37b12f31e"
      },
      "source": [
        "print(f\"Actual Mass of Block: {mba:0.2f} g\")"
      ],
      "execution_count": null,
      "outputs": [
        {
          "output_type": "stream",
          "text": [
            "Actual Mass of Block: 124.60 g\n"
          ],
          "name": "stdout"
        }
      ]
    },
    {
      "cell_type": "markdown",
      "metadata": {
        "id": "mrSd1gjUJ2uN"
      },
      "source": [
        "### Grading for the Activity"
      ]
    },
    {
      "cell_type": "markdown",
      "metadata": {
        "id": "dKPlwKlLKGsR"
      },
      "source": [
        "25 pts - (% difference of predicted and measured values for mass of block)"
      ]
    },
    {
      "cell_type": "code",
      "metadata": {
        "id": "8BBuTYF5J6Q-"
      },
      "source": [
        "total_points = 25\n",
        "grade = total_points - (100 * ((mb - mba) / mba))"
      ],
      "execution_count": null,
      "outputs": []
    },
    {
      "cell_type": "code",
      "metadata": {
        "colab": {
          "base_uri": "https://localhost:8080/"
        },
        "id": "7oK34xwtKYzB",
        "outputId": "a30b9aba-8f08-4e13-e073-5613df6e13d7"
      },
      "source": [
        "print(f\"Grade: {grade:0.1f}/25 = {100*(grade/total_points):0.1f}%\")"
      ],
      "execution_count": null,
      "outputs": [
        {
          "output_type": "stream",
          "text": [
            "Grade: 24.7/25 = 98.7%\n"
          ],
          "name": "stdout"
        }
      ]
    },
    {
      "cell_type": "markdown",
      "metadata": {
        "id": "iGDgauA2WR2y"
      },
      "source": [
        "## **Activity II** (25 points)"
      ]
    },
    {
      "cell_type": "markdown",
      "metadata": {
        "id": "CeO_YNMRLHKU"
      },
      "source": [
        "Determine the volume of this room in **units of m³**, including uncertainties. The goal is to make the most accurate measurement possible. Please show your work below.\n",
        "\n",
        "The uncertainty in the volume is given by:\n",
        "\n",
        "$$\\frac{\\delta{}V}{V} = \\frac{\\delta{}L}{L} + \\frac{\\delta{}H}{H} + \\frac{\\delta{}W}{W}$$\n",
        "\n",
        "where $\\delta{}V$ is the uncertainty in the volume."
      ]
    },
    {
      "cell_type": "code",
      "metadata": {
        "id": "GdLov62TWTkb"
      },
      "source": [
        "L = 9.676 # Length of room\n",
        "dL = 0.004 # Uncertainty of length\n",
        "W = 12.872 # Width of room\n",
        "dW = 0.004 # Uncertainty of width\n",
        "H = 3.117 # Height of room\n",
        "dH = 0.001 # Uncertainty of height"
      ],
      "execution_count": null,
      "outputs": []
    },
    {
      "cell_type": "code",
      "metadata": {
        "colab": {
          "base_uri": "https://localhost:8080/"
        },
        "id": "BQOHBN8iWmxO",
        "outputId": "c5b76072-09c5-4a79-ddcc-aac867aa7542"
      },
      "source": [
        "# Calculation of volume of room\n",
        "V = L * W * H\n",
        "V"
      ],
      "execution_count": null,
      "outputs": [
        {
          "output_type": "execute_result",
          "data": {
            "text/plain": [
              "388.220704224"
            ]
          },
          "metadata": {
            "tags": []
          },
          "execution_count": 48
        }
      ]
    },
    {
      "cell_type": "code",
      "metadata": {
        "colab": {
          "base_uri": "https://localhost:8080/"
        },
        "id": "CqbNgqjuWreQ",
        "outputId": "96843144-d975-4302-a820-5fe20bdcc434"
      },
      "source": [
        "# Calculation of the uncertainty in the volume\n",
        "dV = V * ((dH/H) + (dL/L) + (dW/W))\n",
        "dV"
      ],
      "execution_count": null,
      "outputs": [
        {
          "output_type": "execute_result",
          "data": {
            "text/plain": [
              "0.405677936"
            ]
          },
          "metadata": {
            "tags": []
          },
          "execution_count": 49
        }
      ]
    },
    {
      "cell_type": "markdown",
      "metadata": {
        "id": "cvO5m9HvMuCF"
      },
      "source": [
        "Compare your answers with those of the other groups. Using your Jupyter Notebook, make a plot of the volumes of each group and include error bars."
      ]
    },
    {
      "cell_type": "code",
      "metadata": {
        "id": "p7rDqJ1XDbDH"
      },
      "source": [
        "import matplotlib.pyplot as plt\n",
        "import numpy as np"
      ],
      "execution_count": null,
      "outputs": []
    },
    {
      "cell_type": "code",
      "metadata": {
        "id": "t_fah333D3GZ"
      },
      "source": [
        "group_num = [*range(1,6)]\n",
        "volume = [326, 358, 362, 388.2, 360.58]\n",
        "un_volume = [3, 5, 3, 0.4, 0.25]"
      ],
      "execution_count": null,
      "outputs": []
    },
    {
      "cell_type": "code",
      "metadata": {
        "colab": {
          "base_uri": "https://localhost:8080/",
          "height": 295
        },
        "id": "LOc1bvt_ElB2",
        "outputId": "a98843b4-478e-4e7b-a8ff-e7b6c52a628e"
      },
      "source": [
        "plt.errorbar(group_num, volume, yerr = un_volume, fmt = 'go', capsize = 6)\n",
        "x_ticks = np.arange(1, 6, 1)\n",
        "plt.xticks(x_ticks)\n",
        "plt.title(\"Volume Measurements of the Classroom\")\n",
        "plt.xlabel(\"Group Number\")\n",
        "plt.ylabel(\"Volume (m³)\")\n",
        "plt.show()"
      ],
      "execution_count": null,
      "outputs": [
        {
          "output_type": "display_data",
          "data": {
            "image/png": "[encoded data removed]",
            "text/plain": [
              "<Figure size 432x288 with 1 Axes>"
            ]
          },
          "metadata": {
            "tags": [],
            "needs_background": "light"
          }
        }
      ]
    },
    {
      "cell_type": "markdown",
      "metadata": {
        "id": "oJ4x_HVNPHie"
      },
      "source": [
        "### Is your answer consistent with those of other groups? Give an explanation of why it is or isn't."
      ]
    },
    {
      "cell_type": "markdown",
      "metadata": {
        "id": "q8DcVwZVgO3w"
      },
      "source": [
        "Our measurements are fairly similar to the other groups, but our measured volume was a bit higher than average. This is likely due to the accurate way in which we measured the room's dimensions. We used a paper with a mark on it as a placeholder, held down by a book, to keep track of the previous placement of the ruler. By using this method, we removed most of the possible human error from our measurements. For our height measurement, we also used a meter stick that was already upright, connected to a pillar in the classroom. This reduced error because we knew we were nearly perfectly perpendicular to the ceiling, while other groups used less accurate measuring techniques."
      ]
    },
    {
      "cell_type": "markdown",
      "metadata": {
        "id": "rnGDNHd2ZCqV"
      },
      "source": [
        "## **Activity III** (25 points)"
      ]
    },
    {
      "cell_type": "markdown",
      "metadata": {
        "id": "7IoSgIkJezAc"
      },
      "source": [
        "### 1. Determine the volume of 20 pieces of paper with units of cm³ with its uncertainty."
      ]
    },
    {
      "cell_type": "markdown",
      "metadata": {
        "id": "4mYvhsIBRfz6"
      },
      "source": [
        "#### Measurements"
      ]
    },
    {
      "cell_type": "markdown",
      "metadata": {
        "id": "VDQ-Fni3ZGz1"
      },
      "source": [
        "For 20 sheets\n",
        "* .17 cm thick\n",
        "* 21.5 cm\n",
        "* 27.8 cm"
      ]
    },
    {
      "cell_type": "markdown",
      "metadata": {
        "id": "csIbbse3RiFE"
      },
      "source": [
        "#### Calculations"
      ]
    },
    {
      "cell_type": "code",
      "metadata": {
        "id": "r7LTIwsjatzu"
      },
      "source": [
        "T = 0.17 # Thickness of 20 sheets of paper\n",
        "dT = 0.02 # Uncertainty of thickness\n",
        "L = 27.8 # Length of 20 sheets of paper\n",
        "dL = 0.005 # Uncertainty of length\n",
        "W = 21.5 # Width of 20 sheets of paper\n",
        "dW = 0.005 # Uncertainty of width"
      ],
      "execution_count": null,
      "outputs": []
    },
    {
      "cell_type": "code",
      "metadata": {
        "colab": {
          "base_uri": "https://localhost:8080/"
        },
        "id": "nOyo0neDbf5O",
        "outputId": "57692d27-8d90-41ab-dc7c-995898379584"
      },
      "source": [
        "# Calculation of of 20 sheets of paper\n",
        "V = T * L * W\n",
        "V"
      ],
      "execution_count": null,
      "outputs": [
        {
          "output_type": "execute_result",
          "data": {
            "text/plain": [
              "101.60900000000002"
            ]
          },
          "metadata": {
            "tags": []
          },
          "execution_count": 70
        }
      ]
    },
    {
      "cell_type": "code",
      "metadata": {
        "colab": {
          "base_uri": "https://localhost:8080/"
        },
        "id": "H9FxtmQgbySg",
        "outputId": "564c44e2-9824-492d-9f09-c88e3b304906"
      },
      "source": [
        "# Calculation of uncertainty of volume of 20 sheets of paper\n",
        "dV = V * ((dT/T) + (dL/L) + (dW/W))\n",
        "dV"
      ],
      "execution_count": null,
      "outputs": [
        {
          "output_type": "execute_result",
          "data": {
            "text/plain": [
              "11.995905000000002"
            ]
          },
          "metadata": {
            "tags": []
          },
          "execution_count": 73
        }
      ]
    },
    {
      "cell_type": "markdown",
      "metadata": {
        "id": "gEITB4RBRkhX"
      },
      "source": [
        "#### Values"
      ]
    },
    {
      "cell_type": "code",
      "metadata": {
        "colab": {
          "base_uri": "https://localhost:8080/"
        },
        "id": "fsYPRjgfQOPt",
        "outputId": "e513a83d-7303-469f-9c53-290a452dfbdb"
      },
      "source": [
        "print(f\"Volume of 20 sheets of paper: {V:0.2f} cm³\")"
      ],
      "execution_count": null,
      "outputs": [
        {
          "output_type": "stream",
          "text": [
            "Volume of 20 sheets of paper: 101.61 cm³\n"
          ],
          "name": "stdout"
        }
      ]
    },
    {
      "cell_type": "code",
      "metadata": {
        "colab": {
          "base_uri": "https://localhost:8080/"
        },
        "id": "s_rRskhBQhPq",
        "outputId": "6917a641-3c2f-4f1b-9df9-7b2a202ea818"
      },
      "source": [
        "print(f\"Uncertainty of volume of 20 sheets of paper: {dV:0.0f} cm³\")"
      ],
      "execution_count": null,
      "outputs": [
        {
          "output_type": "stream",
          "text": [
            "Uncertainty of volume of 20 sheets of paper: 12 cm³\n"
          ],
          "name": "stdout"
        }
      ]
    },
    {
      "cell_type": "markdown",
      "metadata": {
        "id": "A-5l_h_ue5VU"
      },
      "source": [
        "### 2. Divide by the number of sheets of paper to give the volume of one piece of paper with its uncertainty.\n"
      ]
    },
    {
      "cell_type": "markdown",
      "metadata": {
        "id": "8hG38U3zRHQI"
      },
      "source": [
        "$$\\delta{}V_1 = \\frac{\\delta{}V_{20}}{20}$$"
      ]
    },
    {
      "cell_type": "markdown",
      "metadata": {
        "id": "YYIFenHgTUhN"
      },
      "source": [
        "#### Calculations"
      ]
    },
    {
      "cell_type": "code",
      "metadata": {
        "id": "V7ydDIO8S_Sl"
      },
      "source": [
        "cV1 = (T/20) * L * W"
      ],
      "execution_count": null,
      "outputs": []
    },
    {
      "cell_type": "code",
      "metadata": {
        "id": "wGdhcAMrcoJl"
      },
      "source": [
        "cdV1 = dV/20 # Calculated uncertainty of volume of one sheet"
      ],
      "execution_count": null,
      "outputs": []
    },
    {
      "cell_type": "markdown",
      "metadata": {
        "id": "F6kd_CTmTWmj"
      },
      "source": [
        "#### Values"
      ]
    },
    {
      "cell_type": "code",
      "metadata": {
        "colab": {
          "base_uri": "https://localhost:8080/"
        },
        "id": "ouTqe-DETRWk",
        "outputId": "fdf5d76c-af76-455a-ab82-9e2117cdec51"
      },
      "source": [
        "print(f\"Volume of one sheet of paper: {cV1:0.2f} cm³\")"
      ],
      "execution_count": null,
      "outputs": [
        {
          "output_type": "stream",
          "text": [
            "Volume of one sheet of paper: 5.08 cm³\n"
          ],
          "name": "stdout"
        }
      ]
    },
    {
      "cell_type": "code",
      "metadata": {
        "colab": {
          "base_uri": "https://localhost:8080/"
        },
        "id": "jISoVXALRRsn",
        "outputId": "b85ccbcb-09c2-4af0-af27-ac028cd3d6d8"
      },
      "source": [
        "print(f\"Uncertainty of volume of one sheet of paper: {cdV1:0.1f} cm³\")"
      ],
      "execution_count": null,
      "outputs": [
        {
          "output_type": "stream",
          "text": [
            "Uncertainty of volume of one sheet of paper: 0.6 cm³\n"
          ],
          "name": "stdout"
        }
      ]
    },
    {
      "cell_type": "markdown",
      "metadata": {
        "id": "xsYqYaWCe-DD"
      },
      "source": [
        "### 3. Directly measure the volume of a single sheet of paper with its uncertainty."
      ]
    },
    {
      "cell_type": "markdown",
      "metadata": {
        "id": "TkV9Xre-R6mJ"
      },
      "source": [
        "#### Calculations"
      ]
    },
    {
      "cell_type": "code",
      "metadata": {
        "id": "JMgA2MpEd34p"
      },
      "source": [
        "T1 = 0.01 # Thickness of one sheet\n",
        "dT1 = 0.01 # Uncertainty of thickness of one sheet"
      ],
      "execution_count": null,
      "outputs": []
    },
    {
      "cell_type": "code",
      "metadata": {
        "colab": {
          "base_uri": "https://localhost:8080/"
        },
        "id": "ufMRHF_6eD-z",
        "outputId": "0bb77c8f-3204-4602-bf55-4ec5351327aa"
      },
      "source": [
        "# Calculation of volume of one sheet\n",
        "V1 = T1 * L * W\n",
        "V1"
      ],
      "execution_count": null,
      "outputs": [
        {
          "output_type": "execute_result",
          "data": {
            "text/plain": [
              "5.977"
            ]
          },
          "metadata": {
            "tags": []
          },
          "execution_count": 82
        }
      ]
    },
    {
      "cell_type": "code",
      "metadata": {
        "colab": {
          "base_uri": "https://localhost:8080/"
        },
        "id": "gfWMmy9UeKmH",
        "outputId": "47fdd508-f280-41f7-af79-458b5b79cc7f"
      },
      "source": [
        "# Calculation of uncertainty of volume of one sheet\n",
        "dV1 = V1 * ((dT1/T1) + (dL/L) + (dW/W))\n",
        "dV1"
      ],
      "execution_count": null,
      "outputs": [
        {
          "output_type": "execute_result",
          "data": {
            "text/plain": [
              "5.979464999999999"
            ]
          },
          "metadata": {
            "tags": []
          },
          "execution_count": 83
        }
      ]
    },
    {
      "cell_type": "markdown",
      "metadata": {
        "id": "TmLjn4bDR821"
      },
      "source": [
        "#### Values"
      ]
    },
    {
      "cell_type": "code",
      "metadata": {
        "colab": {
          "base_uri": "https://localhost:8080/"
        },
        "id": "giUtsj2tR-WO",
        "outputId": "d0ccdbe9-a10d-4c61-b2cc-c5cd050791e7"
      },
      "source": [
        "print(f\"Volume of 1 sheet of paper: {V1:0.2f} cm³\")"
      ],
      "execution_count": null,
      "outputs": [
        {
          "output_type": "stream",
          "text": [
            "Volume of 1 sheet of paper: 5.98 cm³\n"
          ],
          "name": "stdout"
        }
      ]
    },
    {
      "cell_type": "code",
      "metadata": {
        "colab": {
          "base_uri": "https://localhost:8080/"
        },
        "id": "z2RNsNVLSgFU",
        "outputId": "8bdce217-b172-446f-c5dc-79558ab23218"
      },
      "source": [
        "print(f\"Uncertainty of volume of 1 sheet of paper: {dV1:0.0f} cm³\")"
      ],
      "execution_count": null,
      "outputs": [
        {
          "output_type": "stream",
          "text": [
            "Uncertainty of volume of 1 sheet of paper: 6 cm³\n"
          ],
          "name": "stdout"
        }
      ]
    },
    {
      "cell_type": "markdown",
      "metadata": {
        "id": "p0MaVmHxfAqa"
      },
      "source": [
        "### 4. How do the measurements compare? Which one is more accurate? What is the significance of this result and how can you apply it?"
      ]
    },
    {
      "cell_type": "markdown",
      "metadata": {
        "id": "5EBNZf2ufD6d"
      },
      "source": [
        "The first measurement was smaller than the second. The first measurement was significantly more accurate than the second. This is because the uncertainty doesn't significantly decrease when we measure smaller quantities of an item. Because of this fact, it is more accurate to make measurements with higher quantities of an item. We can apply this in the future by conducting measurements on sufficiently large samples to avoid overwhelming error."
      ]
    },
    {
      "cell_type": "markdown",
      "metadata": {
        "id": "zd9JvwdjZEoA"
      },
      "source": [
        "## **Activity IV** (25 points)"
      ]
    },
    {
      "cell_type": "markdown",
      "metadata": {
        "id": "yVElE-wPj9t-"
      },
      "source": [
        "### 1. Drop a tennis ball over a known height and use the equation:\n",
        "\n",
        "$$g = \\frac{2h}{t^2}$$\n",
        "\n",
        "to determine the acceleration of gravity. Give an uncertainty for your measurement.\n",
        "\n",
        "$$\\frac{\\delta{}g}{g} = \\sqrt{(2\\frac{\\delta{}t}{t})^2 + (\\frac{\\delta{}h}{h})^2}$$"
      ]
    },
    {
      "cell_type": "markdown",
      "metadata": {
        "id": "wz_lzDZyU4Wx"
      },
      "source": [
        "#### Calculations"
      ]
    },
    {
      "cell_type": "code",
      "metadata": {
        "id": "KYOG7jV-j7Gl"
      },
      "source": [
        "H = 2\n",
        "dH = 0.01\n",
        "t1 = 0.58\n",
        "dt1 = 0.1"
      ],
      "execution_count": null,
      "outputs": []
    },
    {
      "cell_type": "code",
      "metadata": {
        "colab": {
          "base_uri": "https://localhost:8080/"
        },
        "id": "m7TR1buPkUVm",
        "outputId": "064e4e8f-3f6c-457e-9089-efdd8fba208b"
      },
      "source": [
        "G1 = 2*H/(t1**2)\n",
        "G1"
      ],
      "execution_count": null,
      "outputs": [
        {
          "output_type": "execute_result",
          "data": {
            "text/plain": [
              "11.890606420927469"
            ]
          },
          "metadata": {
            "tags": []
          },
          "execution_count": 100
        }
      ]
    },
    {
      "cell_type": "code",
      "metadata": {
        "colab": {
          "base_uri": "https://localhost:8080/"
        },
        "id": "ui9Vx7pzkcWS",
        "outputId": "10077568-8ddb-42f8-98ef-bad30cc97994"
      },
      "source": [
        "dG1 = G1 * ((2 * (dt1/t1))**2 + (dH/H)**2)**0.5\n",
        "dG1"
      ],
      "execution_count": null,
      "outputs": [
        {
          "output_type": "execute_result",
          "data": {
            "text/plain": [
              "4.100640122493535"
            ]
          },
          "metadata": {
            "tags": []
          },
          "execution_count": 101
        }
      ]
    },
    {
      "cell_type": "markdown",
      "metadata": {
        "id": "Vuy_YfNaU60N"
      },
      "source": [
        "#### Values"
      ]
    },
    {
      "cell_type": "code",
      "metadata": {
        "colab": {
          "base_uri": "https://localhost:8080/"
        },
        "id": "BdJsIcklU8bo",
        "outputId": "d8539f9e-54ab-461a-ece2-16cb3fc0c261"
      },
      "source": [
        "print(f\"Calculated gravity after one drop: {G1:0.2f} m/s²\")"
      ],
      "execution_count": null,
      "outputs": [
        {
          "output_type": "stream",
          "text": [
            "Calculated gravity after one drop: 11.89 m/s²\n"
          ],
          "name": "stdout"
        }
      ]
    },
    {
      "cell_type": "code",
      "metadata": {
        "colab": {
          "base_uri": "https://localhost:8080/"
        },
        "id": "LZ9owydJVMLJ",
        "outputId": "26252d21-9ae8-4a72-adc4-ac98402e6904"
      },
      "source": [
        "print(f\"Uncertainty of calculated gravity after one drop: {dG1:0.0f} m/s²\")"
      ],
      "execution_count": null,
      "outputs": [
        {
          "output_type": "stream",
          "text": [
            "Uncertainty of calculated gravity after one drop: 4 m/s²\n"
          ],
          "name": "stdout"
        }
      ]
    },
    {
      "cell_type": "markdown",
      "metadata": {
        "id": "jvPk1-ymkBdU"
      },
      "source": [
        "### 2. Now drop the ball again. Is your new value for g within the uncertainty value of your first measurement? How much confidence do you have in your uncertainty value?"
      ]
    },
    {
      "cell_type": "markdown",
      "metadata": {
        "id": "EZ5VEi5SVllc"
      },
      "source": [
        "#### Calculations"
      ]
    },
    {
      "cell_type": "code",
      "metadata": {
        "id": "dJY0r23JlViM"
      },
      "source": [
        "t2 = 0.59\n",
        "dt2 = 0.1"
      ],
      "execution_count": null,
      "outputs": []
    },
    {
      "cell_type": "code",
      "metadata": {
        "colab": {
          "base_uri": "https://localhost:8080/"
        },
        "id": "HO2RAw_ElTH0",
        "outputId": "c6ffb435-cc19-43b8-cca8-06e70fe667cf"
      },
      "source": [
        "G2 = 2*H/(t2**2)\n",
        "G2"
      ],
      "execution_count": null,
      "outputs": [
        {
          "output_type": "execute_result",
          "data": {
            "text/plain": [
              "11.490950876185005"
            ]
          },
          "metadata": {
            "tags": []
          },
          "execution_count": 107
        }
      ]
    },
    {
      "cell_type": "markdown",
      "metadata": {
        "id": "FuzTbLtAVnS-"
      },
      "source": [
        "#### Values"
      ]
    },
    {
      "cell_type": "code",
      "metadata": {
        "colab": {
          "base_uri": "https://localhost:8080/"
        },
        "id": "v_CEn4cqVom4",
        "outputId": "fba6c7f5-b577-493f-8ea5-1a1317b858e1"
      },
      "source": [
        "print(f\"Calculated gravity with second drop: {G2:0.2f} m/s²\")"
      ],
      "execution_count": null,
      "outputs": [
        {
          "output_type": "stream",
          "text": [
            "Calculated gravity with second drop: 11.49 m/s²\n"
          ],
          "name": "stdout"
        }
      ]
    },
    {
      "cell_type": "markdown",
      "metadata": {
        "id": "56OHW5DXV3WG"
      },
      "source": [
        "#### Answers"
      ]
    },
    {
      "cell_type": "markdown",
      "metadata": {
        "id": "vQjDiTzuV5J_"
      },
      "source": [
        "The new value for g is within the uncertainty value of our first measurement. This is because the uncertainty value is very large. We are confident that nearly any result we record will fall within our uncertainty, even if the measurement is seriously flawed. This is due to the large uncertainty value."
      ]
    },
    {
      "cell_type": "markdown",
      "metadata": {
        "id": "KjmlTX3EkAEy"
      },
      "source": [
        "### 3. Drop the ball ten times. Use the average as your estimate of g and the standard deviation as your uncertainty value."
      ]
    },
    {
      "cell_type": "code",
      "metadata": {
        "id": "DoI5OsVxHsNZ"
      },
      "source": [
        "import statistics as stats"
      ],
      "execution_count": null,
      "outputs": []
    },
    {
      "cell_type": "code",
      "metadata": {
        "id": "36N8Ouj-Hvpo"
      },
      "source": [
        "t = [0.62, 0.67, 0.61, 0.69, 0.56, 0.60, 0.69, 0.63, 0.59, 0.59]\n",
        "g = [*map(lambda n: 2*H/(n**2),t)]\n",
        "g_avg = stats.mean(g)\n",
        "g_stdev = stats.stdev(g)"
      ],
      "execution_count": null,
      "outputs": []
    },
    {
      "cell_type": "code",
      "metadata": {
        "colab": {
          "base_uri": "https://localhost:8080/"
        },
        "id": "eI_Bp74PH6Eo",
        "outputId": "f5996c61-33ba-41b6-eef4-f368388b0c90"
      },
      "source": [
        "print(f\"The average of the values is: {g_avg:0.2f} m/s²\")\n",
        "print(f\"The standard deviation is: {g_stdev:0.2f} m/s²\")"
      ],
      "execution_count": null,
      "outputs": [
        {
          "output_type": "stream",
          "text": [
            "The average of the values is: 10.38 m/s²\n",
            "The standard deviation is: 1.45 m/s²\n"
          ],
          "name": "stdout"
        }
      ]
    },
    {
      "cell_type": "markdown",
      "metadata": {
        "id": "FQAA2TRhXD3R"
      },
      "source": [
        "### 4. Which uncertainty (from 1 or 3 above) should be reported? Why?"
      ]
    },
    {
      "cell_type": "markdown",
      "metadata": {
        "id": "Uo9AsvHtXK54"
      },
      "source": [
        "The uncertainty from 3 should be reported. It is much more accurate and is taken from a significantly larger dataset than the other."
      ]
    }
  ]
}