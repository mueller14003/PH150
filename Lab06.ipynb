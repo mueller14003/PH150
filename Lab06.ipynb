{
  "nbformat": 4,
  "nbformat_minor": 0,
  "metadata": {
    "colab": {
      "name": "Lab06.ipynb",
      "provenance": [],
      "collapsed_sections": [],
      "authorship_tag": "ABX9TyMOuBf9rMEtWQDqlxk9bcud",
      "include_colab_link": true
    },
    "kernelspec": {
      "name": "python3",
      "display_name": "Python 3"
    },
    "language_info": {
      "name": "python"
    }
  },
  "cells": [
    {
      "cell_type": "markdown",
      "metadata": {
        "id": "view-in-github",
        "colab_type": "text"
      },
      "source": [
        "<a href=\"https://colab.research.google.com/github/mueller14003/PH150/blob/main/Lab06.ipynb\" target=\"_parent\"><img src=\"https://colab.research.google.com/assets/colab-badge.svg\" alt=\"Open In Colab\"/></a>"
      ]
    },
    {
      "cell_type": "markdown",
      "metadata": {
        "id": "weU7fMWAIJ3V"
      },
      "source": [
        "# Physics 150 \n",
        "# Lab #5 - Projectile Motion I\n"
      ]
    },
    {
      "cell_type": "markdown",
      "metadata": {
        "id": "v26PuClGFB9T"
      },
      "source": [
        "**Group 4:**\n",
        "* Kyle Mueller\n",
        "* Sam Fataua\n",
        "* Makenzy Pharis"
      ]
    },
    {
      "cell_type": "markdown",
      "metadata": {
        "id": "ErXT5Ju3Wywk"
      },
      "source": [
        "## Introduction"
      ]
    },
    {
      "cell_type": "markdown",
      "metadata": {
        "id": "XbY8X61MY345"
      },
      "source": [
        "In this lab, you will develop a model for the two-dimensional motion of a projectile with air resistance. The model will make use of Euler's equations for the x and y components of the motion. The drag force (due to air resistance) is given by:\n",
        "\n",
        "$$F_{drag}=\\frac{1}{2}\\times{}C\\times{}\\rho{}_{air}\\times{}A\\times{}v^{2}$$\n",
        "\n",
        "where C is the drag coefficient, $\\rho{}_{air}$ is the air density, and A is the cross-sectional area of the ball."
      ]
    },
    {
      "cell_type": "markdown",
      "metadata": {
        "id": "JAOdOLFVZ-yI"
      },
      "source": [
        "The equations of motion are:\n",
        "\n",
        "$x_{n+1}=x_{n}+v_{x,n}\\times{}\\Delta{}t$\n",
        "\n",
        "$y_{n+1}=y_{n}+v_{y,n}\\times{}\\Delta{}t$\n",
        "\n",
        "$v_{n}=\\sqrt{v_{x,n}^{2}+v_{y,n}^{2}}$\n",
        "\n",
        "$v_{x,n+1}=v_{x,n}-\\frac{B}{m}\\times{}v_{n}\\times{}v_{x,n}\\times{}\\Delta{}t$\n",
        "\n",
        "$v_{y,n+1}=v_{y,n}-\\frac{B}{m}\\times{}v_{n}\\times{}v_{y,n}\\times{}\\Delta{}t$\n",
        "\n",
        "where $B = \\frac{1}{2}C\\times{}\\rho{}\\times{}A$"
      ]
    },
    {
      "cell_type": "markdown",
      "metadata": {
        "id": "cmSvqWclcPgt"
      },
      "source": [
        "## **Activity I** - Model for 2-d Motion with Air Resistance"
      ]
    },
    {
      "cell_type": "markdown",
      "metadata": {
        "id": "yAxxyBp7cgSk"
      },
      "source": [
        "Using equations (2-6) above, write Python code that will produce a trajectory for a given initial height, initial velocity, and initial launch angle.\n",
        "\n",
        "\n",
        "Programming tips:\n",
        "1. Start with your code from Lab #5\n",
        "2. You will need to store x and y coordinates so you can plot them at the end of the program. You can do this by declaring two empty lists:\n",
        "```\n",
        "xpoints = []\n",
        "ypoints = []\n",
        "```\n",
        "Every time you want to add a value to the list, use:\n",
        "```\n",
        "xpoints.append(x)\n",
        "ypoints.append(y)\n",
        "```"
      ]
    },
    {
      "cell_type": "code",
      "metadata": {
        "id": "bWa0XwESkJEF"
      },
      "source": [
        "from math import cos, sin, tan, pi\n",
        "\n",
        "# Initial Functions\n",
        "cx_area = lambda r: pi*r**2 # Cross-sectional area\n",
        "get_B = lambda C,ρ,A: (C*ρ*A)/2 # Get B\n",
        "\n",
        "# Constants and Initial Conditions\n",
        "g = 9.8 #m/s²\n",
        "dt = 1/60 #s\n",
        "ρ = 1.02 #kg/m³\n",
        "C = 0.48\n",
        "r = 0.02294/2 #m\n",
        "A = cx_area(r)\n",
        "B = get_B(C,ρ,A)\n",
        "m = 0.0002 #kg\n",
        "\n",
        "# Functions to use with model\n",
        "x_np1 = lambda xn,vxn: xn+vxn*dt\n",
        "y_np1 = lambda yn,vyn: yn+vyn*dt - 0.5*g*dt**2\n",
        "get_v_n = lambda v_xn,v_yn: ((v_xn**2)+(v_yn**2))**0.5\n",
        "v_xnp1 = lambda v_xn,v_n: v_xn - (B/m)*v_n*v_xn*dt\n",
        "v_ynp1 = lambda v_yn,v_n: v_yn - (B/m)*v_n*v_yn*dt - g*dt\n",
        "v_xi = lambda v_i,θ_i: v_i*cos(pi*θ_i/180)\n",
        "v_yi = lambda v_i,θ_i: v_i*sin(pi*θ_i/180)\n",
        "\n",
        "def predictive_model(y_i,v_i,θ_i):\n",
        "  x_points = [0]\n",
        "  y_points = [y_i]\n",
        "\n",
        "  v_n = v_i\n",
        "  v_x = v_xi(v_n,θ_i)\n",
        "  v_y = v_yi(v_n,θ_i)\n",
        "  \n",
        "  while y_points[-1] > 0:\n",
        "    x_points.append(x_np1(x_points[-1],v_x))\n",
        "    y_points.append(y_np1(y_points[-1],v_y))\n",
        "\n",
        "    v_n = get_v_n(v_x,v_y)\n",
        "    v_y = v_ynp1(v_y,v_n)\n",
        "    v_x = v_xnp1(v_x,v_n)\n",
        "  \n",
        "  return x_points, y_points"
      ],
      "execution_count": 15,
      "outputs": []
    },
    {
      "cell_type": "markdown",
      "metadata": {
        "id": "kepKWTl2dwHz"
      },
      "source": [
        "## **Activity II** - Video of 2-d Motion"
      ]
    },
    {
      "cell_type": "markdown",
      "metadata": {
        "id": "W_nYGCbLd03R"
      },
      "source": [
        "Using a smart phone, take a video of the projectile motion. **Make sure that you have a meter stick in the video for your scale.** (Having a proper scale is critical.) Also, try to avoid distortion by capturing the video at a location at the mid-point of the trajectory. Load the video on Logger Pro and determine the trajectory (y vs. x) of the motion (see the instructions on pg. 3 for the movie capture). Copy and paste the x and y data into an Excel file and save it as a .txt file \"projectile.txt\". Do not include headings in your columns. Then upload the file to Jupyter Notebook.\n",
        "\n",
        "Make a plot of your trajectory from the video analysis. Show the location of the Styrofoam ball as individual data points rather than a solid line. You can use the following code to make the plot:"
      ]
    },
    {
      "cell_type": "code",
      "metadata": {
        "colab": {
          "base_uri": "https://localhost:8080/",
          "height": 265
        },
        "id": "oSBqgmH_fKIF",
        "outputId": "d6875bc9-38be-46c1-85c5-e5c108de148d"
      },
      "source": [
        "# Import libraries\n",
        "import matplotlib.pyplot as plt\n",
        "import numpy as np\n",
        "\n",
        "# Import video analysis data and plot the data\n",
        "x_act = [-0.00500305727775, 0.0580789692678, 0.142229771182, 0.245015148754, 0.348960655549, 0.449363624893, 0.532219639727, 0.606882241918, 0.679514617966, 0.756290312671, 0.851275892872, 0.929947155866, 0.988492248482, 1.06162182277, 1.11819883902, 1.17918848964, 1.25494907128, 1.32174972632, 1.38610582336, 1.42669998789, 1.46932437857, 1.51787371493, 1.58444648744, 1.63002299266, 1.69366436722, 1.73208328947, 1.79263789163, 1.84139439393, 1.88658764217, 1.92664317529, 1.96826281119, 2.00525228849, 2.04888143395, 2.07754284075, 2.10571740762, 2.14086310813, 2.17151330788, 2.20164559281, 2.23067989829, 2.25615094974, 2.28654219209, 2.30734165174, 2.32958091463, 2.35242095872, 2.37219494701, 2.39587401313, 2.41217797204, 2.43965853304, 2.45442946404, 2.4687653466, 2.48580474457, 2.49719887088, 2.51201123508]\n",
        "y_act = [0.981609133804, 1.02295286718, 1.07073085572, 1.13083596093, 1.18270563599, 1.22720402845, 1.26752744304, 1.2937329774, 1.32814270765, 1.34809098091, 1.37043387989, 1.3831045733, 1.4043022165, 1.41361002251, 1.41425553031, 1.41343302843, 1.4033964233, 1.40409398818, 1.38417694916, 1.37876301278, 1.36717510665, 1.34994421298, 1.32736185144, 1.3118904871, 1.28498738787, 1.25782400323, 1.22384114104, 1.18438187398, 1.14750463812, 1.11457332896, 1.07463513676, 1.03385361985, 0.980786631928, 0.946751712658, 0.905616207605, 0.853444601472, 0.810351750188, 0.761969899518, 0.703811729121, 0.66089587191, 0.60598606334, 0.558541240121, 0.502590289939, 0.446233294529, 0.394009631315, 0.326106375437, 0.274267934619, 0.206937306628, 0.160481567939, 0.102188049132, 0.0484963762462, -0.00705894012343, -0.0400839520283]\n",
        "plt.plot(x_act,y_act,'bo')\n",
        "\n",
        "plt.show()"
      ],
      "execution_count": 64,
      "outputs": [
        {
          "output_type": "display_data",
          "data": {
            "image/png": "[encoded data removed]",
            "text/plain": [
              "<Figure size 432x288 with 1 Axes>"
            ]
          },
          "metadata": {
            "tags": [],
            "needs_background": "light"
          }
        }
      ]
    },
    {
      "cell_type": "markdown",
      "metadata": {
        "id": "qprsI4Irfn5G"
      },
      "source": [
        "## **Activity III** - Fit Model to Data"
      ]
    },
    {
      "cell_type": "markdown",
      "metadata": {
        "id": "3qYNdRbLfr17"
      },
      "source": [
        "Combine the graphs from Activities I and II into one graph. Adjust the initial velocity and the drag coefficient until there is a good fit between the model and the experimental data. Make sure that you use the same origin and initial location for the Styrofoam ball."
      ]
    },
    {
      "cell_type": "code",
      "metadata": {
        "colab": {
          "base_uri": "https://localhost:8080/",
          "height": 265
        },
        "id": "OO9NLw7Cd9cJ",
        "outputId": "4446863b-c480-4043-bdef-04212e217316"
      },
      "source": [
        "x_mod,y_mod = predictive_model(1,7.4,30)\n",
        "plt.plot(x_mod,y_mod,'ro')\n",
        "plt.show()"
      ],
      "execution_count": 65,
      "outputs": [
        {
          "output_type": "display_data",
          "data": {
            "image/png": "[encoded data removed]",
            "text/plain": [
              "<Figure size 432x288 with 1 Axes>"
            ]
          },
          "metadata": {
            "tags": [],
            "needs_background": "light"
          }
        }
      ]
    },
    {
      "cell_type": "code",
      "metadata": {
        "colab": {
          "base_uri": "https://localhost:8080/",
          "height": 265
        },
        "id": "_4uPa-dyeags",
        "outputId": "63e4ce84-79f9-4d0d-e22c-b91f9004ae53"
      },
      "source": [
        "plt.plot(x_act,y_act,'bo')\n",
        "plt.plot(x_mod,y_mod,'ro')\n",
        "plt.show()"
      ],
      "execution_count": 66,
      "outputs": [
        {
          "output_type": "display_data",
          "data": {
            "image/png": "[encoded data removed]",
            "text/plain": [
              "<Figure size 432x288 with 1 Axes>"
            ]
          },
          "metadata": {
            "tags": [],
            "needs_background": "light"
          }
        }
      ]
    },
    {
      "cell_type": "markdown",
      "metadata": {
        "id": "m_K0f5i-gBdm"
      },
      "source": [
        "## **Activity IV** - Testing the Model"
      ]
    },
    {
      "cell_type": "markdown",
      "metadata": {
        "id": "ECc2eWQCgF7B"
      },
      "source": [
        "Use the model from Activity I with the values of initial velocity and drag coefficient from Activity III to predict the trajectory of the Styrofoam ball. The instructor will give you an initial height and initial angle. Using the third setting on the projectile launcher, you will need to predict the height of the projectile when $x = \\frac{1}{2}R$ where R is the range of motion. A 10 cm hoop will be placed at the value of x and y that you specify. **You will have two shots!**"
      ]
    },
    {
      "cell_type": "markdown",
      "metadata": {
        "id": "yvIbr-3sgvIb"
      },
      "source": [
        "Don't fire your Styrofoam ball until the instructor or the teaching assistant is there to observe."
      ]
    },
    {
      "cell_type": "markdown",
      "metadata": {
        "id": "PLqUBd-Fg314"
      },
      "source": [
        "The points for this section are as follows:\n",
        "* Ball goes through the hoop on the first try: 25 pts\n",
        "* Ball goes through the hoop on the second try: 20 pts\n",
        "* Ball doesn't go through the hoop both tries: 15 pts"
      ]
    },
    {
      "cell_type": "code",
      "metadata": {
        "colab": {
          "base_uri": "https://localhost:8080/",
          "height": 1000
        },
        "id": "9FFPVcJBeiED",
        "outputId": "272b3da2-71fe-46d6-ea90-7e71fe11c61f"
      },
      "source": [
        "from IPython.display import Markdown\n",
        "\n",
        "header = \"| Time (s) | x (m) | y (m) |\\n|:-|-:|-:|\\n\"\n",
        "\n",
        "x_pred,y_pred = predictive_model(1.131,7.4,33)\n",
        "\n",
        "body = '\\n'.join([*map(lambda t:f\"|{t/60:0.3f}|{x_pred[t]:0.3f}|{y_pred[t]:0.3f}|\",range(len(y_pred)))])\n",
        "\n",
        "Markdown(header + body)"
      ],
      "execution_count": 51,
      "outputs": [
        {
          "output_type": "execute_result",
          "data": {
            "text/markdown": "| Time (s) | x (m) | y (m) |\n|:-|-:|-:|\n|0.000|0.000|1.131|\n|0.017|0.103|1.197|\n|0.033|0.200|1.256|\n|0.050|0.292|1.308|\n|0.067|0.378|1.355|\n|0.083|0.460|1.397|\n|0.100|0.539|1.435|\n|0.117|0.614|1.467|\n|0.133|0.685|1.496|\n|0.150|0.754|1.521|\n|0.167|0.820|1.542|\n|0.183|0.884|1.559|\n|0.200|0.946|1.573|\n|0.217|1.006|1.584|\n|0.233|1.064|1.592|\n|0.250|1.120|1.597|\n|0.267|1.175|1.599|\n|0.283|1.228|1.598|\n|0.300|1.280|1.594|\n|0.317|1.330|1.588|\n|0.333|1.379|1.579|\n|0.350|1.427|1.568|\n|0.367|1.474|1.554|\n|0.383|1.519|1.537|\n|0.400|1.564|1.519|\n|0.417|1.607|1.498|\n|0.433|1.649|1.474|\n|0.450|1.690|1.449|\n|0.467|1.731|1.421|\n|0.483|1.770|1.392|\n|0.500|1.808|1.360|\n|0.517|1.846|1.327|\n|0.533|1.882|1.291|\n|0.550|1.918|1.254|\n|0.567|1.952|1.214|\n|0.583|1.986|1.173|\n|0.600|2.019|1.131|\n|0.617|2.051|1.086|\n|0.633|2.082|1.041|\n|0.650|2.112|0.993|\n|0.667|2.142|0.945|\n|0.683|2.170|0.894|\n|0.700|2.198|0.843|\n|0.717|2.225|0.790|\n|0.733|2.251|0.736|\n|0.750|2.276|0.681|\n|0.767|2.301|0.625|\n|0.783|2.325|0.568|\n|0.800|2.348|0.509|\n|0.817|2.370|0.450|\n|0.833|2.392|0.390|\n|0.850|2.413|0.329|\n|0.867|2.433|0.267|\n|0.883|2.453|0.204|\n|0.900|2.472|0.141|\n|0.917|2.491|0.077|\n|0.933|2.508|0.013|\n|0.950|2.526|-0.053|",
            "text/plain": [
              "<IPython.core.display.Markdown object>"
            ]
          },
          "metadata": {
            "tags": []
          },
          "execution_count": 51
        }
      ]
    },
    {
      "cell_type": "code",
      "metadata": {
        "colab": {
          "base_uri": "https://localhost:8080/",
          "height": 265
        },
        "id": "8BySrnB6ejhP",
        "outputId": "263ed892-afb7-4887-a443-d191f7159737"
      },
      "source": [
        "plt.plot(x_pred,y_pred,'bo')\n",
        "\n",
        "plt.show()"
      ],
      "execution_count": 52,
      "outputs": [
        {
          "output_type": "display_data",
          "data": {
            "image/png": "[encoded data removed]",
            "text/plain": [
              "<Figure size 432x288 with 1 Axes>"
            ]
          },
          "metadata": {
            "tags": [],
            "needs_background": "light"
          }
        }
      ]
    },
    {
      "cell_type": "code",
      "metadata": {
        "colab": {
          "base_uri": "https://localhost:8080/"
        },
        "id": "upBouonLnI41",
        "outputId": "47558ec8-3404-4579-fc37-137a817854e6"
      },
      "source": [
        "R = 2.51\n",
        "x = R/2\n",
        "y = 1.595\n",
        "\n",
        "print(f\"x: {x}\\ny: {y}\")"
      ],
      "execution_count": 70,
      "outputs": [
        {
          "output_type": "stream",
          "text": [
            "x: 1.255\n",
            "y: 1.595\n"
          ],
          "name": "stdout"
        }
      ]
    },
    {
      "cell_type": "markdown",
      "metadata": {
        "id": "nc8vbe0ViRQI"
      },
      "source": [
        "The ball went through the hoop the first try, so we get 25/25 pts!"
      ]
    },
    {
      "cell_type": "markdown",
      "metadata": {
        "id": "hNTQFvqhiCnt"
      },
      "source": [
        "### Logger Pro Movie Capture"
      ]
    },
    {
      "cell_type": "markdown",
      "metadata": {
        "id": "6Jg_T6o8io2-"
      },
      "source": [
        "*Tips*\n",
        "1. Make sure there is a meter stick in the field of view when the ball is fired.\n",
        "\n",
        "*Logger Pro Procedure*\n",
        "1. Use Insert>Movie to input the video clip.\n",
        "2. Click on \"Enable/Disable Video Analysis\" which is located in the bottom right hand corner of the video window.\n",
        "3. Click on \"Set Scale\". Then click and drag on the image of the meter stick.\n",
        "4. \"Set Origin\" to a position on the ground directly below where the ball is launched.\n",
        "5. Make sure that the video clip is set to the frame just before the ball starts moving. Click on \"Add Point\" and then click on the ball. The video will advance one frame at a time."
      ]
    }
  ]
}